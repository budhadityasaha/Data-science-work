{
 "cells": [
  {
   "cell_type": "markdown",
   "metadata": {
    "id": "CDBrSxMVmJkI"
   },
   "source": [
    "\n",
    "# Predicting the Dow Jones with News"
   ]
  },
  {
   "cell_type": "markdown",
   "metadata": {
    "id": "SYmOpPosmJkO"
   },
   "source": [
    "# Problem Statement & Reference Architecture\n",
    "\n",
    "* **Aim**: Use Reddit News Headlines to predict the movement of Dow Jones Industrial Average.   \n",
    "\n",
    "\n",
    "* **Data Description**: Dow Jones details on Open, High, Low and Close for each day from 2008-08-08 to 2016-07-01 and headlines for those dates from Reddit News. \n",
    "\n",
    "\n",
    "* **Methodology**: For this project, we will use GloVe to create our word embeddings and CNNs followed by LSTMs to build our model."
   ]
  },
  {
   "cell_type": "markdown",
   "metadata": {
    "id": "gqJCcftzmJkQ"
   },
   "source": [
    "# Imports"
   ]
  },
  {
   "cell_type": "code",
   "execution_count": 2,
   "metadata": {
    "colab": {
     "base_uri": "https://localhost:8080/"
    },
    "executionInfo": {
     "elapsed": 20831,
     "status": "ok",
     "timestamp": 1605505802963,
     "user": {
      "displayName": "Budhaditya Saha",
      "photoUrl": "",
      "userId": "05733663512738547915"
     },
     "user_tz": -330
    },
    "id": "LIi0PCYTmaWf",
    "outputId": "878deea7-d7fd-4f9c-e577-757d91046457"
   },
   "outputs": [
    {
     "name": "stdout",
     "output_type": "stream",
     "text": [
      "Mounted at /content/drive/\n"
     ]
    }
   ],
   "source": [
    "from google.colab import drive\n",
    "drive.mount('/content/drive/')"
   ]
  },
  {
   "cell_type": "code",
   "execution_count": 3,
   "metadata": {
    "executionInfo": {
     "elapsed": 5510,
     "status": "ok",
     "timestamp": 1605505824622,
     "user": {
      "displayName": "Budhaditya Saha",
      "photoUrl": "",
      "userId": "05733663512738547915"
     },
     "user_tz": -330
    },
    "id": "Ff7HyRiCmJkR"
   },
   "outputs": [],
   "source": [
    "import pandas as pd\n",
    "import numpy as np\n",
    "import tensorflow as tf\n",
    "import re\n",
    "import nltk\n",
    "from nltk.corpus import stopwords\n",
    "from sklearn.model_selection import train_test_split\n",
    "from sklearn.metrics import median_absolute_error as mae\n",
    "from sklearn.metrics import mean_squared_error as mse\n",
    "import matplotlib.pyplot as plt"
   ]
  },
  {
   "cell_type": "code",
   "execution_count": 4,
   "metadata": {
    "colab": {
     "base_uri": "https://localhost:8080/"
    },
    "executionInfo": {
     "elapsed": 1286,
     "status": "ok",
     "timestamp": 1605505827809,
     "user": {
      "displayName": "Budhaditya Saha",
      "photoUrl": "",
      "userId": "05733663512738547915"
     },
     "user_tz": -330
    },
    "id": "GuN5YCAGmJkW",
    "outputId": "c63cbd9a-7cae-4f57-9a34-2a8b764a940f"
   },
   "outputs": [
    {
     "name": "stdout",
     "output_type": "stream",
     "text": [
      "[nltk_data] Downloading package stopwords to /root/nltk_data...\n",
      "[nltk_data]   Unzipping corpora/stopwords.zip.\n"
     ]
    },
    {
     "data": {
      "text/plain": [
       "True"
      ]
     },
     "execution_count": 4,
     "metadata": {
      "tags": []
     },
     "output_type": "execute_result"
    }
   ],
   "source": [
    "nltk.download('stopwords')"
   ]
  },
  {
   "cell_type": "code",
   "execution_count": 5,
   "metadata": {
    "executionInfo": {
     "elapsed": 1265,
     "status": "ok",
     "timestamp": 1605505831201,
     "user": {
      "displayName": "Budhaditya Saha",
      "photoUrl": "",
      "userId": "05733663512738547915"
     },
     "user_tz": -330
    },
    "id": "x8M-DIJRmJka"
   },
   "outputs": [],
   "source": [
    "# Keras Imports\n",
    "from tensorflow.keras.models import Sequential\n",
    "from tensorflow.keras import initializers\n",
    "from tensorflow.keras.layers import Dropout, Activation, Embedding, Convolution1D, MaxPooling1D, Input, Dense, add, \\\n",
    "                         BatchNormalization, Flatten, Reshape, Concatenate\n",
    "#from tensorflow.keras.layers.recurrent import LSTM, GRU\n",
    "from tensorflow.keras.layers import LSTM, GRU, Bidirectional, SimpleRNN, RNN\n",
    "from tensorflow.keras.callbacks import Callback, ModelCheckpoint, EarlyStopping, ReduceLROnPlateau\n",
    "from tensorflow.keras.models import Model\n",
    "from tensorflow.keras.optimizers import Adam, SGD, RMSprop\n",
    "from tensorflow.keras import regularizers\n",
    "#from tensorflow.keras.utils.vis_utils import plot_model\n",
    "from tensorflow.keras.utils import to_categorical\n",
    "from tensorflow.keras.utils import plot_model\n",
    "import re"
   ]
  },
  {
   "cell_type": "code",
   "execution_count": 6,
   "metadata": {
    "executionInfo": {
     "elapsed": 2079,
     "status": "ok",
     "timestamp": 1605505854679,
     "user": {
      "displayName": "Budhaditya Saha",
      "photoUrl": "",
      "userId": "05733663512738547915"
     },
     "user_tz": -330
    },
    "id": "V-iGMvK-mJkf"
   },
   "outputs": [],
   "source": [
    "dj = pd.read_csv(\"/content/drive/My Drive/colab_data/dowjones_news_data/DowJones.csv\")\n",
    "news = pd.read_csv(\"/content/drive/My Drive/colab_data/dowjones_news_data/News.csv\")"
   ]
  },
  {
   "cell_type": "markdown",
   "metadata": {
    "id": "4zjySsoxmJki"
   },
   "source": [
    "## Inspect the data"
   ]
  },
  {
   "cell_type": "code",
   "execution_count": 7,
   "metadata": {
    "colab": {
     "base_uri": "https://localhost:8080/",
     "height": 204
    },
    "executionInfo": {
     "elapsed": 1034,
     "status": "ok",
     "timestamp": 1605505857039,
     "user": {
      "displayName": "Budhaditya Saha",
      "photoUrl": "",
      "userId": "05733663512738547915"
     },
     "user_tz": -330
    },
    "id": "X1yGBkkjmJkj",
    "outputId": "a5109e80-12cf-403a-bf9a-490ea36f3b13"
   },
   "outputs": [
    {
     "data": {
      "text/html": [
       "<div>\n",
       "<style scoped>\n",
       "    .dataframe tbody tr th:only-of-type {\n",
       "        vertical-align: middle;\n",
       "    }\n",
       "\n",
       "    .dataframe tbody tr th {\n",
       "        vertical-align: top;\n",
       "    }\n",
       "\n",
       "    .dataframe thead th {\n",
       "        text-align: right;\n",
       "    }\n",
       "</style>\n",
       "<table border=\"1\" class=\"dataframe\">\n",
       "  <thead>\n",
       "    <tr style=\"text-align: right;\">\n",
       "      <th></th>\n",
       "      <th>Date</th>\n",
       "      <th>Open</th>\n",
       "      <th>High</th>\n",
       "      <th>Low</th>\n",
       "      <th>Close</th>\n",
       "      <th>Volume</th>\n",
       "      <th>Adj Close</th>\n",
       "    </tr>\n",
       "  </thead>\n",
       "  <tbody>\n",
       "    <tr>\n",
       "      <th>0</th>\n",
       "      <td>2016-07-01</td>\n",
       "      <td>17924.240234</td>\n",
       "      <td>18002.380859</td>\n",
       "      <td>17916.910156</td>\n",
       "      <td>17949.369141</td>\n",
       "      <td>82160000</td>\n",
       "      <td>17949.369141</td>\n",
       "    </tr>\n",
       "    <tr>\n",
       "      <th>1</th>\n",
       "      <td>2016-06-30</td>\n",
       "      <td>17712.759766</td>\n",
       "      <td>17930.609375</td>\n",
       "      <td>17711.800781</td>\n",
       "      <td>17929.990234</td>\n",
       "      <td>133030000</td>\n",
       "      <td>17929.990234</td>\n",
       "    </tr>\n",
       "    <tr>\n",
       "      <th>2</th>\n",
       "      <td>2016-06-29</td>\n",
       "      <td>17456.019531</td>\n",
       "      <td>17704.509766</td>\n",
       "      <td>17456.019531</td>\n",
       "      <td>17694.679688</td>\n",
       "      <td>106380000</td>\n",
       "      <td>17694.679688</td>\n",
       "    </tr>\n",
       "    <tr>\n",
       "      <th>3</th>\n",
       "      <td>2016-06-28</td>\n",
       "      <td>17190.509766</td>\n",
       "      <td>17409.720703</td>\n",
       "      <td>17190.509766</td>\n",
       "      <td>17409.720703</td>\n",
       "      <td>112190000</td>\n",
       "      <td>17409.720703</td>\n",
       "    </tr>\n",
       "    <tr>\n",
       "      <th>4</th>\n",
       "      <td>2016-06-27</td>\n",
       "      <td>17355.210938</td>\n",
       "      <td>17355.210938</td>\n",
       "      <td>17063.080078</td>\n",
       "      <td>17140.240234</td>\n",
       "      <td>138740000</td>\n",
       "      <td>17140.240234</td>\n",
       "    </tr>\n",
       "  </tbody>\n",
       "</table>\n",
       "</div>"
      ],
      "text/plain": [
       "         Date          Open  ...     Volume     Adj Close\n",
       "0  2016-07-01  17924.240234  ...   82160000  17949.369141\n",
       "1  2016-06-30  17712.759766  ...  133030000  17929.990234\n",
       "2  2016-06-29  17456.019531  ...  106380000  17694.679688\n",
       "3  2016-06-28  17190.509766  ...  112190000  17409.720703\n",
       "4  2016-06-27  17355.210938  ...  138740000  17140.240234\n",
       "\n",
       "[5 rows x 7 columns]"
      ]
     },
     "execution_count": 7,
     "metadata": {
      "tags": []
     },
     "output_type": "execute_result"
    }
   ],
   "source": [
    "dj.head()"
   ]
  },
  {
   "cell_type": "code",
   "execution_count": 8,
   "metadata": {
    "colab": {
     "base_uri": "https://localhost:8080/"
    },
    "executionInfo": {
     "elapsed": 1020,
     "status": "ok",
     "timestamp": 1605505860572,
     "user": {
      "displayName": "Budhaditya Saha",
      "photoUrl": "",
      "userId": "05733663512738547915"
     },
     "user_tz": -330
    },
    "id": "ZgcjibBJmJkm",
    "outputId": "27221b4f-477e-45b4-859f-682cc81dc1ef"
   },
   "outputs": [
    {
     "data": {
      "text/plain": [
       "Date         0\n",
       "Open         0\n",
       "High         0\n",
       "Low          0\n",
       "Close        0\n",
       "Volume       0\n",
       "Adj Close    0\n",
       "dtype: int64"
      ]
     },
     "execution_count": 8,
     "metadata": {
      "tags": []
     },
     "output_type": "execute_result"
    }
   ],
   "source": [
    "dj.isnull().sum() #No missing data"
   ]
  },
  {
   "cell_type": "code",
   "execution_count": 9,
   "metadata": {
    "colab": {
     "base_uri": "https://localhost:8080/"
    },
    "executionInfo": {
     "elapsed": 1063,
     "status": "ok",
     "timestamp": 1605505863623,
     "user": {
      "displayName": "Budhaditya Saha",
      "photoUrl": "",
      "userId": "05733663512738547915"
     },
     "user_tz": -330
    },
    "id": "OGIQflwEmJkq",
    "outputId": "d3047c3f-f9e8-44d6-8e5b-e73f1b227fcc"
   },
   "outputs": [
    {
     "data": {
      "text/plain": [
       "Date    0\n",
       "News    0\n",
       "dtype: int64"
      ]
     },
     "execution_count": 9,
     "metadata": {
      "tags": []
     },
     "output_type": "execute_result"
    }
   ],
   "source": [
    "news.isnull().sum() #No missing data"
   ]
  },
  {
   "cell_type": "code",
   "execution_count": 10,
   "metadata": {
    "colab": {
     "base_uri": "https://localhost:8080/",
     "height": 204
    },
    "executionInfo": {
     "elapsed": 1051,
     "status": "ok",
     "timestamp": 1605505866865,
     "user": {
      "displayName": "Budhaditya Saha",
      "photoUrl": "",
      "userId": "05733663512738547915"
     },
     "user_tz": -330
    },
    "id": "f_Bs7EiXmJkv",
    "outputId": "29d2cc9c-f6e2-4097-b6c5-fce698160651"
   },
   "outputs": [
    {
     "data": {
      "text/html": [
       "<div>\n",
       "<style scoped>\n",
       "    .dataframe tbody tr th:only-of-type {\n",
       "        vertical-align: middle;\n",
       "    }\n",
       "\n",
       "    .dataframe tbody tr th {\n",
       "        vertical-align: top;\n",
       "    }\n",
       "\n",
       "    .dataframe thead th {\n",
       "        text-align: right;\n",
       "    }\n",
       "</style>\n",
       "<table border=\"1\" class=\"dataframe\">\n",
       "  <thead>\n",
       "    <tr style=\"text-align: right;\">\n",
       "      <th></th>\n",
       "      <th>Date</th>\n",
       "      <th>News</th>\n",
       "    </tr>\n",
       "  </thead>\n",
       "  <tbody>\n",
       "    <tr>\n",
       "      <th>0</th>\n",
       "      <td>2016-07-01</td>\n",
       "      <td>A 117-year-old woman in Mexico City finally re...</td>\n",
       "    </tr>\n",
       "    <tr>\n",
       "      <th>1</th>\n",
       "      <td>2016-07-01</td>\n",
       "      <td>IMF chief backs Athens as permanent Olympic host</td>\n",
       "    </tr>\n",
       "    <tr>\n",
       "      <th>2</th>\n",
       "      <td>2016-07-01</td>\n",
       "      <td>The president of France says if Brexit won, so...</td>\n",
       "    </tr>\n",
       "    <tr>\n",
       "      <th>3</th>\n",
       "      <td>2016-07-01</td>\n",
       "      <td>British Man Who Must Give Police 24 Hours' Not...</td>\n",
       "    </tr>\n",
       "    <tr>\n",
       "      <th>4</th>\n",
       "      <td>2016-07-01</td>\n",
       "      <td>100+ Nobel laureates urge Greenpeace to stop o...</td>\n",
       "    </tr>\n",
       "  </tbody>\n",
       "</table>\n",
       "</div>"
      ],
      "text/plain": [
       "         Date                                               News\n",
       "0  2016-07-01  A 117-year-old woman in Mexico City finally re...\n",
       "1  2016-07-01   IMF chief backs Athens as permanent Olympic host\n",
       "2  2016-07-01  The president of France says if Brexit won, so...\n",
       "3  2016-07-01  British Man Who Must Give Police 24 Hours' Not...\n",
       "4  2016-07-01  100+ Nobel laureates urge Greenpeace to stop o..."
      ]
     },
     "execution_count": 10,
     "metadata": {
      "tags": []
     },
     "output_type": "execute_result"
    }
   ],
   "source": [
    "news.head()"
   ]
  },
  {
   "cell_type": "code",
   "execution_count": 11,
   "metadata": {
    "colab": {
     "base_uri": "https://localhost:8080/"
    },
    "executionInfo": {
     "elapsed": 1299,
     "status": "ok",
     "timestamp": 1605505870127,
     "user": {
      "displayName": "Budhaditya Saha",
      "photoUrl": "",
      "userId": "05733663512738547915"
     },
     "user_tz": -330
    },
    "id": "mE-TN-uLmJky",
    "outputId": "b042ee86-0299-47f2-ef3f-f8b79f5646cf"
   },
   "outputs": [
    {
     "name": "stdout",
     "output_type": "stream",
     "text": [
      "(1989, 7)\n",
      "(73608, 2)\n"
     ]
    }
   ],
   "source": [
    "print(dj.shape)\n",
    "print(news.shape)"
   ]
  },
  {
   "cell_type": "code",
   "execution_count": 12,
   "metadata": {
    "colab": {
     "base_uri": "https://localhost:8080/"
    },
    "executionInfo": {
     "elapsed": 979,
     "status": "ok",
     "timestamp": 1605505872261,
     "user": {
      "displayName": "Budhaditya Saha",
      "photoUrl": "",
      "userId": "05733663512738547915"
     },
     "user_tz": -330
    },
    "id": "icSXeJ8OmJk1",
    "outputId": "cad96c28-af56-4ed3-c2c9-964e3fc35c65"
   },
   "outputs": [
    {
     "data": {
      "text/plain": [
       "0       2016-07-01\n",
       "1       2016-06-30\n",
       "2       2016-06-29\n",
       "3       2016-06-28\n",
       "4       2016-06-27\n",
       "           ...    \n",
       "1984    2008-08-14\n",
       "1985    2008-08-13\n",
       "1986    2008-08-12\n",
       "1987    2008-08-11\n",
       "1988    2008-08-08\n",
       "Name: Date, Length: 1989, dtype: object"
      ]
     },
     "execution_count": 12,
     "metadata": {
      "tags": []
     },
     "output_type": "execute_result"
    }
   ],
   "source": [
    "dj.Date"
   ]
  },
  {
   "cell_type": "code",
   "execution_count": 13,
   "metadata": {
    "colab": {
     "base_uri": "https://localhost:8080/"
    },
    "executionInfo": {
     "elapsed": 978,
     "status": "ok",
     "timestamp": 1605505875182,
     "user": {
      "displayName": "Budhaditya Saha",
      "photoUrl": "",
      "userId": "05733663512738547915"
     },
     "user_tz": -330
    },
    "id": "ov5as683mJk4",
    "outputId": "273dc602-54e0-45fb-d8b8-d3353747f35f"
   },
   "outputs": [
    {
     "name": "stdout",
     "output_type": "stream",
     "text": [
      "1989\n",
      "2943\n"
     ]
    }
   ],
   "source": [
    "# Compare the number of unique dates. We want matching values.\n",
    "print(len(set(dj.Date)))\n",
    "print(len(set(news.Date)))"
   ]
  },
  {
   "cell_type": "code",
   "execution_count": 14,
   "metadata": {
    "executionInfo": {
     "elapsed": 1003,
     "status": "ok",
     "timestamp": 1605505878277,
     "user": {
      "displayName": "Budhaditya Saha",
      "photoUrl": "",
      "userId": "05733663512738547915"
     },
     "user_tz": -330
    },
    "id": "8iJwhkiCmJk7"
   },
   "outputs": [],
   "source": [
    "# Remove the extra dates that are in news\n",
    "news = news[news.Date.isin(dj.Date)]"
   ]
  },
  {
   "cell_type": "code",
   "execution_count": 15,
   "metadata": {
    "colab": {
     "base_uri": "https://localhost:8080/",
     "height": 419
    },
    "executionInfo": {
     "elapsed": 1035,
     "status": "ok",
     "timestamp": 1605505880813,
     "user": {
      "displayName": "Budhaditya Saha",
      "photoUrl": "",
      "userId": "05733663512738547915"
     },
     "user_tz": -330
    },
    "id": "cdzADLU_mJk_",
    "outputId": "bb353bf7-31af-42a9-d902-eafcfd2ef73b"
   },
   "outputs": [
    {
     "data": {
      "text/html": [
       "<div>\n",
       "<style scoped>\n",
       "    .dataframe tbody tr th:only-of-type {\n",
       "        vertical-align: middle;\n",
       "    }\n",
       "\n",
       "    .dataframe tbody tr th {\n",
       "        vertical-align: top;\n",
       "    }\n",
       "\n",
       "    .dataframe thead th {\n",
       "        text-align: right;\n",
       "    }\n",
       "</style>\n",
       "<table border=\"1\" class=\"dataframe\">\n",
       "  <thead>\n",
       "    <tr style=\"text-align: right;\">\n",
       "      <th></th>\n",
       "      <th>Date</th>\n",
       "      <th>News</th>\n",
       "    </tr>\n",
       "  </thead>\n",
       "  <tbody>\n",
       "    <tr>\n",
       "      <th>0</th>\n",
       "      <td>2016-07-01</td>\n",
       "      <td>A 117-year-old woman in Mexico City finally re...</td>\n",
       "    </tr>\n",
       "    <tr>\n",
       "      <th>1</th>\n",
       "      <td>2016-07-01</td>\n",
       "      <td>IMF chief backs Athens as permanent Olympic host</td>\n",
       "    </tr>\n",
       "    <tr>\n",
       "      <th>2</th>\n",
       "      <td>2016-07-01</td>\n",
       "      <td>The president of France says if Brexit won, so...</td>\n",
       "    </tr>\n",
       "    <tr>\n",
       "      <th>3</th>\n",
       "      <td>2016-07-01</td>\n",
       "      <td>British Man Who Must Give Police 24 Hours' Not...</td>\n",
       "    </tr>\n",
       "    <tr>\n",
       "      <th>4</th>\n",
       "      <td>2016-07-01</td>\n",
       "      <td>100+ Nobel laureates urge Greenpeace to stop o...</td>\n",
       "    </tr>\n",
       "    <tr>\n",
       "      <th>...</th>\n",
       "      <td>...</td>\n",
       "      <td>...</td>\n",
       "    </tr>\n",
       "    <tr>\n",
       "      <th>72078</th>\n",
       "      <td>2008-08-08</td>\n",
       "      <td>b'Why the Pentagon Thinks Attacking Iran is a ...</td>\n",
       "    </tr>\n",
       "    <tr>\n",
       "      <th>72079</th>\n",
       "      <td>2008-08-08</td>\n",
       "      <td>b'Caucasus in crisis: Georgia invades South Os...</td>\n",
       "    </tr>\n",
       "    <tr>\n",
       "      <th>72080</th>\n",
       "      <td>2008-08-08</td>\n",
       "      <td>b'Indian shoe manufactory  - And again in a se...</td>\n",
       "    </tr>\n",
       "    <tr>\n",
       "      <th>72081</th>\n",
       "      <td>2008-08-08</td>\n",
       "      <td>b'Visitors Suffering from Mental Illnesses Ban...</td>\n",
       "    </tr>\n",
       "    <tr>\n",
       "      <th>72082</th>\n",
       "      <td>2008-08-08</td>\n",
       "      <td>b\"No Help for Mexico's Kidnapping Surge\"</td>\n",
       "    </tr>\n",
       "  </tbody>\n",
       "</table>\n",
       "<p>49718 rows × 2 columns</p>\n",
       "</div>"
      ],
      "text/plain": [
       "             Date                                               News\n",
       "0      2016-07-01  A 117-year-old woman in Mexico City finally re...\n",
       "1      2016-07-01   IMF chief backs Athens as permanent Olympic host\n",
       "2      2016-07-01  The president of France says if Brexit won, so...\n",
       "3      2016-07-01  British Man Who Must Give Police 24 Hours' Not...\n",
       "4      2016-07-01  100+ Nobel laureates urge Greenpeace to stop o...\n",
       "...           ...                                                ...\n",
       "72078  2008-08-08  b'Why the Pentagon Thinks Attacking Iran is a ...\n",
       "72079  2008-08-08  b'Caucasus in crisis: Georgia invades South Os...\n",
       "72080  2008-08-08  b'Indian shoe manufactory  - And again in a se...\n",
       "72081  2008-08-08  b'Visitors Suffering from Mental Illnesses Ban...\n",
       "72082  2008-08-08           b\"No Help for Mexico's Kidnapping Surge\"\n",
       "\n",
       "[49718 rows x 2 columns]"
      ]
     },
     "execution_count": 15,
     "metadata": {
      "tags": []
     },
     "output_type": "execute_result"
    }
   ],
   "source": [
    "news"
   ]
  },
  {
   "cell_type": "code",
   "execution_count": 17,
   "metadata": {
    "colab": {
     "base_uri": "https://localhost:8080/"
    },
    "executionInfo": {
     "elapsed": 1117,
     "status": "ok",
     "timestamp": 1605506315460,
     "user": {
      "displayName": "Budhaditya Saha",
      "photoUrl": "",
      "userId": "05733663512738547915"
     },
     "user_tz": -330
    },
    "id": "wiCIJxJSmJlB",
    "outputId": "42286c5c-3135-4e9e-eede-7c44e9e3c2e4"
   },
   "outputs": [
    {
     "name": "stdout",
     "output_type": "stream",
     "text": [
      "1989\n",
      "1989\n"
     ]
    }
   ],
   "source": [
    "print(len(set(dj.Date)))\n",
    "print(len(set(news.Date)))"
   ]
  },
  {
   "cell_type": "code",
   "execution_count": 18,
   "metadata": {
    "colab": {
     "base_uri": "https://localhost:8080/",
     "height": 204
    },
    "executionInfo": {
     "elapsed": 1049,
     "status": "ok",
     "timestamp": 1605506318042,
     "user": {
      "displayName": "Budhaditya Saha",
      "photoUrl": "",
      "userId": "05733663512738547915"
     },
     "user_tz": -330
    },
    "id": "zht07EgmmJlE",
    "outputId": "d10fec1c-7c89-47aa-8330-a0f0ddd5ea79"
   },
   "outputs": [
    {
     "data": {
      "text/html": [
       "<div>\n",
       "<style scoped>\n",
       "    .dataframe tbody tr th:only-of-type {\n",
       "        vertical-align: middle;\n",
       "    }\n",
       "\n",
       "    .dataframe tbody tr th {\n",
       "        vertical-align: top;\n",
       "    }\n",
       "\n",
       "    .dataframe thead th {\n",
       "        text-align: right;\n",
       "    }\n",
       "</style>\n",
       "<table border=\"1\" class=\"dataframe\">\n",
       "  <thead>\n",
       "    <tr style=\"text-align: right;\">\n",
       "      <th></th>\n",
       "      <th>Date</th>\n",
       "      <th>Open</th>\n",
       "    </tr>\n",
       "  </thead>\n",
       "  <tbody>\n",
       "    <tr>\n",
       "      <th>0</th>\n",
       "      <td>2016-07-01</td>\n",
       "      <td>17924.240234</td>\n",
       "    </tr>\n",
       "    <tr>\n",
       "      <th>1</th>\n",
       "      <td>2016-06-30</td>\n",
       "      <td>17712.759766</td>\n",
       "    </tr>\n",
       "    <tr>\n",
       "      <th>2</th>\n",
       "      <td>2016-06-29</td>\n",
       "      <td>17456.019531</td>\n",
       "    </tr>\n",
       "    <tr>\n",
       "      <th>3</th>\n",
       "      <td>2016-06-28</td>\n",
       "      <td>17190.509766</td>\n",
       "    </tr>\n",
       "    <tr>\n",
       "      <th>4</th>\n",
       "      <td>2016-06-27</td>\n",
       "      <td>17355.210938</td>\n",
       "    </tr>\n",
       "  </tbody>\n",
       "</table>\n",
       "</div>"
      ],
      "text/plain": [
       "         Date          Open\n",
       "0  2016-07-01  17924.240234\n",
       "1  2016-06-30  17712.759766\n",
       "2  2016-06-29  17456.019531\n",
       "3  2016-06-28  17190.509766\n",
       "4  2016-06-27  17355.210938"
      ]
     },
     "execution_count": 18,
     "metadata": {
      "tags": []
     },
     "output_type": "execute_result"
    }
   ],
   "source": [
    "# Remove unwanted features - keep the 'Open' price only\n",
    "dj = dj.drop(['High','Low','Close','Volume','Adj Close'], 1)\n",
    "dj.head()"
   ]
  },
  {
   "cell_type": "code",
   "execution_count": 19,
   "metadata": {
    "colab": {
     "base_uri": "https://localhost:8080/",
     "height": 235
    },
    "executionInfo": {
     "elapsed": 1374,
     "status": "ok",
     "timestamp": 1605506327990,
     "user": {
      "displayName": "Budhaditya Saha",
      "photoUrl": "",
      "userId": "05733663512738547915"
     },
     "user_tz": -330
    },
    "id": "3x6lPAuXmJlH",
    "outputId": "dd325fe2-c29d-419a-af7f-ba5e8551592c"
   },
   "outputs": [
    {
     "data": {
      "text/html": [
       "<div>\n",
       "<style scoped>\n",
       "    .dataframe tbody tr th:only-of-type {\n",
       "        vertical-align: middle;\n",
       "    }\n",
       "\n",
       "    .dataframe tbody tr th {\n",
       "        vertical-align: top;\n",
       "    }\n",
       "\n",
       "    .dataframe thead th {\n",
       "        text-align: right;\n",
       "    }\n",
       "</style>\n",
       "<table border=\"1\" class=\"dataframe\">\n",
       "  <thead>\n",
       "    <tr style=\"text-align: right;\">\n",
       "      <th></th>\n",
       "      <th>Open</th>\n",
       "    </tr>\n",
       "    <tr>\n",
       "      <th>Date</th>\n",
       "      <th></th>\n",
       "    </tr>\n",
       "  </thead>\n",
       "  <tbody>\n",
       "    <tr>\n",
       "      <th>2016-07-01</th>\n",
       "      <td>17924.240234</td>\n",
       "    </tr>\n",
       "    <tr>\n",
       "      <th>2016-06-30</th>\n",
       "      <td>17712.759766</td>\n",
       "    </tr>\n",
       "    <tr>\n",
       "      <th>2016-06-29</th>\n",
       "      <td>17456.019531</td>\n",
       "    </tr>\n",
       "    <tr>\n",
       "      <th>2016-06-28</th>\n",
       "      <td>17190.509766</td>\n",
       "    </tr>\n",
       "    <tr>\n",
       "      <th>2016-06-27</th>\n",
       "      <td>17355.210938</td>\n",
       "    </tr>\n",
       "  </tbody>\n",
       "</table>\n",
       "</div>"
      ],
      "text/plain": [
       "                    Open\n",
       "Date                    \n",
       "2016-07-01  17924.240234\n",
       "2016-06-30  17712.759766\n",
       "2016-06-29  17456.019531\n",
       "2016-06-28  17190.509766\n",
       "2016-06-27  17355.210938"
      ]
     },
     "execution_count": 19,
     "metadata": {
      "tags": []
     },
     "output_type": "execute_result"
    }
   ],
   "source": [
    "# Calculate the difference in opening prices between the following and current day.\n",
    "# The model will try to predict the change in Open value based on the today's news.\n",
    "dj = dj.set_index('Date')\n",
    "dj.head()"
   ]
  },
  {
   "cell_type": "code",
   "execution_count": 20,
   "metadata": {
    "colab": {
     "base_uri": "https://localhost:8080/",
     "height": 450
    },
    "executionInfo": {
     "elapsed": 1041,
     "status": "ok",
     "timestamp": 1605506330617,
     "user": {
      "displayName": "Budhaditya Saha",
      "photoUrl": "",
      "userId": "05733663512738547915"
     },
     "user_tz": -330
    },
    "id": "kB6Ds9J2mJlM",
    "outputId": "15b5843c-498f-4b7a-864c-b182f6d1cb46"
   },
   "outputs": [
    {
     "data": {
      "text/html": [
       "<div>\n",
       "<style scoped>\n",
       "    .dataframe tbody tr th:only-of-type {\n",
       "        vertical-align: middle;\n",
       "    }\n",
       "\n",
       "    .dataframe tbody tr th {\n",
       "        vertical-align: top;\n",
       "    }\n",
       "\n",
       "    .dataframe thead th {\n",
       "        text-align: right;\n",
       "    }\n",
       "</style>\n",
       "<table border=\"1\" class=\"dataframe\">\n",
       "  <thead>\n",
       "    <tr style=\"text-align: right;\">\n",
       "      <th></th>\n",
       "      <th>Open</th>\n",
       "    </tr>\n",
       "    <tr>\n",
       "      <th>Date</th>\n",
       "      <th></th>\n",
       "    </tr>\n",
       "  </thead>\n",
       "  <tbody>\n",
       "    <tr>\n",
       "      <th>2016-07-01</th>\n",
       "      <td>NaN</td>\n",
       "    </tr>\n",
       "    <tr>\n",
       "      <th>2016-06-30</th>\n",
       "      <td>-211.480468</td>\n",
       "    </tr>\n",
       "    <tr>\n",
       "      <th>2016-06-29</th>\n",
       "      <td>-256.740235</td>\n",
       "    </tr>\n",
       "    <tr>\n",
       "      <th>2016-06-28</th>\n",
       "      <td>-265.509765</td>\n",
       "    </tr>\n",
       "    <tr>\n",
       "      <th>2016-06-27</th>\n",
       "      <td>164.701172</td>\n",
       "    </tr>\n",
       "    <tr>\n",
       "      <th>...</th>\n",
       "      <td>...</td>\n",
       "    </tr>\n",
       "    <tr>\n",
       "      <th>2008-08-14</th>\n",
       "      <td>-79.139649</td>\n",
       "    </tr>\n",
       "    <tr>\n",
       "      <th>2008-08-13</th>\n",
       "      <td>100.739258</td>\n",
       "    </tr>\n",
       "    <tr>\n",
       "      <th>2008-08-12</th>\n",
       "      <td>148.890625</td>\n",
       "    </tr>\n",
       "    <tr>\n",
       "      <th>2008-08-11</th>\n",
       "      <td>-52.030273</td>\n",
       "    </tr>\n",
       "    <tr>\n",
       "      <th>2008-08-08</th>\n",
       "      <td>-297.580078</td>\n",
       "    </tr>\n",
       "  </tbody>\n",
       "</table>\n",
       "<p>1989 rows × 1 columns</p>\n",
       "</div>"
      ],
      "text/plain": [
       "                  Open\n",
       "Date                  \n",
       "2016-07-01         NaN\n",
       "2016-06-30 -211.480468\n",
       "2016-06-29 -256.740235\n",
       "2016-06-28 -265.509765\n",
       "2016-06-27  164.701172\n",
       "...                ...\n",
       "2008-08-14  -79.139649\n",
       "2008-08-13  100.739258\n",
       "2008-08-12  148.890625\n",
       "2008-08-11  -52.030273\n",
       "2008-08-08 -297.580078\n",
       "\n",
       "[1989 rows x 1 columns]"
      ]
     },
     "execution_count": 20,
     "metadata": {
      "tags": []
     },
     "output_type": "execute_result"
    }
   ],
   "source": [
    "dj.diff(periods=1)"
   ]
  },
  {
   "cell_type": "code",
   "execution_count": 21,
   "metadata": {
    "executionInfo": {
     "elapsed": 1281,
     "status": "ok",
     "timestamp": 1605506334392,
     "user": {
      "displayName": "Budhaditya Saha",
      "photoUrl": "",
      "userId": "05733663512738547915"
     },
     "user_tz": -330
    },
    "id": "Ttc5NG2KmJlP"
   },
   "outputs": [],
   "source": [
    "# Target variable = Tomorrow's Open Price - Today's Open Price\n",
    "dj = -1 * dj.diff(periods=1)"
   ]
  },
  {
   "cell_type": "code",
   "execution_count": 22,
   "metadata": {
    "colab": {
     "base_uri": "https://localhost:8080/",
     "height": 235
    },
    "executionInfo": {
     "elapsed": 1029,
     "status": "ok",
     "timestamp": 1605506338808,
     "user": {
      "displayName": "Budhaditya Saha",
      "photoUrl": "",
      "userId": "05733663512738547915"
     },
     "user_tz": -330
    },
    "id": "O2_bR039mJlS",
    "outputId": "98a27e68-105d-4100-894a-2d21117e183e"
   },
   "outputs": [
    {
     "data": {
      "text/html": [
       "<div>\n",
       "<style scoped>\n",
       "    .dataframe tbody tr th:only-of-type {\n",
       "        vertical-align: middle;\n",
       "    }\n",
       "\n",
       "    .dataframe tbody tr th {\n",
       "        vertical-align: top;\n",
       "    }\n",
       "\n",
       "    .dataframe thead th {\n",
       "        text-align: right;\n",
       "    }\n",
       "</style>\n",
       "<table border=\"1\" class=\"dataframe\">\n",
       "  <thead>\n",
       "    <tr style=\"text-align: right;\">\n",
       "      <th></th>\n",
       "      <th>Open</th>\n",
       "    </tr>\n",
       "    <tr>\n",
       "      <th>Date</th>\n",
       "      <th></th>\n",
       "    </tr>\n",
       "  </thead>\n",
       "  <tbody>\n",
       "    <tr>\n",
       "      <th>2016-07-01</th>\n",
       "      <td>NaN</td>\n",
       "    </tr>\n",
       "    <tr>\n",
       "      <th>2016-06-30</th>\n",
       "      <td>211.480468</td>\n",
       "    </tr>\n",
       "    <tr>\n",
       "      <th>2016-06-29</th>\n",
       "      <td>256.740235</td>\n",
       "    </tr>\n",
       "    <tr>\n",
       "      <th>2016-06-28</th>\n",
       "      <td>265.509765</td>\n",
       "    </tr>\n",
       "    <tr>\n",
       "      <th>2016-06-27</th>\n",
       "      <td>-164.701172</td>\n",
       "    </tr>\n",
       "  </tbody>\n",
       "</table>\n",
       "</div>"
      ],
      "text/plain": [
       "                  Open\n",
       "Date                  \n",
       "2016-07-01         NaN\n",
       "2016-06-30  211.480468\n",
       "2016-06-29  256.740235\n",
       "2016-06-28  265.509765\n",
       "2016-06-27 -164.701172"
      ]
     },
     "execution_count": 22,
     "metadata": {
      "tags": []
     },
     "output_type": "execute_result"
    }
   ],
   "source": [
    "dj.head()"
   ]
  },
  {
   "cell_type": "code",
   "execution_count": 23,
   "metadata": {
    "executionInfo": {
     "elapsed": 1098,
     "status": "ok",
     "timestamp": 1605506343862,
     "user": {
      "displayName": "Budhaditya Saha",
      "photoUrl": "",
      "userId": "05733663512738547915"
     },
     "user_tz": -330
    },
    "id": "fIWW6VRgmJlV"
   },
   "outputs": [],
   "source": [
    "dj['Date'] = dj.index\n",
    "dj = dj.reset_index(drop=True)"
   ]
  },
  {
   "cell_type": "code",
   "execution_count": 24,
   "metadata": {
    "colab": {
     "base_uri": "https://localhost:8080/",
     "height": 204
    },
    "executionInfo": {
     "elapsed": 1011,
     "status": "ok",
     "timestamp": 1605506346137,
     "user": {
      "displayName": "Budhaditya Saha",
      "photoUrl": "",
      "userId": "05733663512738547915"
     },
     "user_tz": -330
    },
    "id": "7FrG1wGhmJlY",
    "outputId": "8fd8f250-e11d-4f0d-e730-b8bb79197e8a"
   },
   "outputs": [
    {
     "data": {
      "text/html": [
       "<div>\n",
       "<style scoped>\n",
       "    .dataframe tbody tr th:only-of-type {\n",
       "        vertical-align: middle;\n",
       "    }\n",
       "\n",
       "    .dataframe tbody tr th {\n",
       "        vertical-align: top;\n",
       "    }\n",
       "\n",
       "    .dataframe thead th {\n",
       "        text-align: right;\n",
       "    }\n",
       "</style>\n",
       "<table border=\"1\" class=\"dataframe\">\n",
       "  <thead>\n",
       "    <tr style=\"text-align: right;\">\n",
       "      <th></th>\n",
       "      <th>Open</th>\n",
       "      <th>Date</th>\n",
       "    </tr>\n",
       "  </thead>\n",
       "  <tbody>\n",
       "    <tr>\n",
       "      <th>0</th>\n",
       "      <td>NaN</td>\n",
       "      <td>2016-07-01</td>\n",
       "    </tr>\n",
       "    <tr>\n",
       "      <th>1</th>\n",
       "      <td>211.480468</td>\n",
       "      <td>2016-06-30</td>\n",
       "    </tr>\n",
       "    <tr>\n",
       "      <th>2</th>\n",
       "      <td>256.740235</td>\n",
       "      <td>2016-06-29</td>\n",
       "    </tr>\n",
       "    <tr>\n",
       "      <th>3</th>\n",
       "      <td>265.509765</td>\n",
       "      <td>2016-06-28</td>\n",
       "    </tr>\n",
       "    <tr>\n",
       "      <th>4</th>\n",
       "      <td>-164.701172</td>\n",
       "      <td>2016-06-27</td>\n",
       "    </tr>\n",
       "  </tbody>\n",
       "</table>\n",
       "</div>"
      ],
      "text/plain": [
       "         Open        Date\n",
       "0         NaN  2016-07-01\n",
       "1  211.480468  2016-06-30\n",
       "2  256.740235  2016-06-29\n",
       "3  265.509765  2016-06-28\n",
       "4 -164.701172  2016-06-27"
      ]
     },
     "execution_count": 24,
     "metadata": {
      "tags": []
     },
     "output_type": "execute_result"
    }
   ],
   "source": [
    "dj.head()"
   ]
  },
  {
   "cell_type": "code",
   "execution_count": 25,
   "metadata": {
    "executionInfo": {
     "elapsed": 1064,
     "status": "ok",
     "timestamp": 1605506349620,
     "user": {
      "displayName": "Budhaditya Saha",
      "photoUrl": "",
      "userId": "05733663512738547915"
     },
     "user_tz": -330
    },
    "id": "IKh0X7vLmJlb"
   },
   "outputs": [],
   "source": [
    "# Remove top row since it has a null value.\n",
    "dj = dj[dj.Open.notnull()]"
   ]
  },
  {
   "cell_type": "code",
   "execution_count": 26,
   "metadata": {
    "colab": {
     "base_uri": "https://localhost:8080/"
    },
    "executionInfo": {
     "elapsed": 1273,
     "status": "ok",
     "timestamp": 1605506354304,
     "user": {
      "displayName": "Budhaditya Saha",
      "photoUrl": "",
      "userId": "05733663512738547915"
     },
     "user_tz": -330
    },
    "id": "PRzjFKmUmJle",
    "outputId": "ba1bbb2a-b087-4276-f190-6778913ac9d8"
   },
   "outputs": [
    {
     "data": {
      "text/plain": [
       "Open    0\n",
       "Date    0\n",
       "dtype: int64"
      ]
     },
     "execution_count": 26,
     "metadata": {
      "tags": []
     },
     "output_type": "execute_result"
    }
   ],
   "source": [
    "# Check if there are any more null values.\n",
    "dj.isnull().sum()"
   ]
  },
  {
   "cell_type": "code",
   "execution_count": 27,
   "metadata": {
    "colab": {
     "base_uri": "https://localhost:8080/",
     "height": 204
    },
    "executionInfo": {
     "elapsed": 1359,
     "status": "ok",
     "timestamp": 1605506357086,
     "user": {
      "displayName": "Budhaditya Saha",
      "photoUrl": "",
      "userId": "05733663512738547915"
     },
     "user_tz": -330
    },
    "id": "_8p9nlqrmJlh",
    "outputId": "d71e42e8-c01f-42dd-cc14-749857b127db"
   },
   "outputs": [
    {
     "data": {
      "text/html": [
       "<div>\n",
       "<style scoped>\n",
       "    .dataframe tbody tr th:only-of-type {\n",
       "        vertical-align: middle;\n",
       "    }\n",
       "\n",
       "    .dataframe tbody tr th {\n",
       "        vertical-align: top;\n",
       "    }\n",
       "\n",
       "    .dataframe thead th {\n",
       "        text-align: right;\n",
       "    }\n",
       "</style>\n",
       "<table border=\"1\" class=\"dataframe\">\n",
       "  <thead>\n",
       "    <tr style=\"text-align: right;\">\n",
       "      <th></th>\n",
       "      <th>Open</th>\n",
       "      <th>Date</th>\n",
       "    </tr>\n",
       "  </thead>\n",
       "  <tbody>\n",
       "    <tr>\n",
       "      <th>1</th>\n",
       "      <td>211.480468</td>\n",
       "      <td>2016-06-30</td>\n",
       "    </tr>\n",
       "    <tr>\n",
       "      <th>2</th>\n",
       "      <td>256.740235</td>\n",
       "      <td>2016-06-29</td>\n",
       "    </tr>\n",
       "    <tr>\n",
       "      <th>3</th>\n",
       "      <td>265.509765</td>\n",
       "      <td>2016-06-28</td>\n",
       "    </tr>\n",
       "    <tr>\n",
       "      <th>4</th>\n",
       "      <td>-164.701172</td>\n",
       "      <td>2016-06-27</td>\n",
       "    </tr>\n",
       "    <tr>\n",
       "      <th>5</th>\n",
       "      <td>-591.419921</td>\n",
       "      <td>2016-06-24</td>\n",
       "    </tr>\n",
       "  </tbody>\n",
       "</table>\n",
       "</div>"
      ],
      "text/plain": [
       "         Open        Date\n",
       "1  211.480468  2016-06-30\n",
       "2  256.740235  2016-06-29\n",
       "3  265.509765  2016-06-28\n",
       "4 -164.701172  2016-06-27\n",
       "5 -591.419921  2016-06-24"
      ]
     },
     "execution_count": 27,
     "metadata": {
      "tags": []
     },
     "output_type": "execute_result"
    }
   ],
   "source": [
    "dj.head()"
   ]
  },
  {
   "cell_type": "markdown",
   "metadata": {
    "id": "YyNwYQMCmJlk"
   },
   "source": [
    "## Combine the two datasets - For each date, get all the headlines and the price"
   ]
  },
  {
   "cell_type": "code",
   "execution_count": 28,
   "metadata": {
    "colab": {
     "base_uri": "https://localhost:8080/"
    },
    "executionInfo": {
     "elapsed": 15178,
     "status": "ok",
     "timestamp": 1605506376337,
     "user": {
      "displayName": "Budhaditya Saha",
      "photoUrl": "",
      "userId": "05733663512738547915"
     },
     "user_tz": -330
    },
    "id": "u_4QXOdDmJll",
    "outputId": "da9d809c-16b5-4670-c83b-18135c6c3565"
   },
   "outputs": [
    {
     "name": "stdout",
     "output_type": "stream",
     "text": [
      "500\n",
      "1000\n",
      "1500\n"
     ]
    }
   ],
   "source": [
    "# Create a list of the opening prices and their corresponding daily headlines from the news\n",
    "# Define/Initialize the variables\n",
    "price = []\n",
    "headlines = []\n",
    "\n",
    "# For all the rows in the dataframe\n",
    "for row in dj.iterrows():\n",
    "    # define a new variable to store all the headlines for the day\n",
    "    daily_headlines = []\n",
    "    # Spot the date in the given row\n",
    "    date = row[1]['Date']\n",
    "    # Store the price for the date\n",
    "    price.append(row[1]['Open'])\n",
    "    for row_ in news[news.Date==date].iterrows():\n",
    "        daily_headlines.append(row_[1]['News'])\n",
    "\n",
    "    # Append the headlines for the date\n",
    "    headlines.append(daily_headlines)\n",
    "    # Track progress\n",
    "    if len(price) % 500 == 0:\n",
    "        print(len(price))"
   ]
  },
  {
   "cell_type": "code",
   "execution_count": 29,
   "metadata": {
    "colab": {
     "base_uri": "https://localhost:8080/"
    },
    "executionInfo": {
     "elapsed": 1002,
     "status": "ok",
     "timestamp": 1605506379653,
     "user": {
      "displayName": "Budhaditya Saha",
      "photoUrl": "",
      "userId": "05733663512738547915"
     },
     "user_tz": -330
    },
    "id": "hisUGbtImJlo",
    "outputId": "6d6238a1-d486-4b3f-9c62-d509b91075d9"
   },
   "outputs": [
    {
     "data": {
      "text/plain": [
       "1988"
      ]
     },
     "execution_count": 29,
     "metadata": {
      "tags": []
     },
     "output_type": "execute_result"
    }
   ],
   "source": [
    "len(headlines)"
   ]
  },
  {
   "cell_type": "code",
   "execution_count": 30,
   "metadata": {
    "colab": {
     "base_uri": "https://localhost:8080/"
    },
    "executionInfo": {
     "elapsed": 968,
     "status": "ok",
     "timestamp": 1605506381882,
     "user": {
      "displayName": "Budhaditya Saha",
      "photoUrl": "",
      "userId": "05733663512738547915"
     },
     "user_tz": -330
    },
    "id": "DY6wu2RtmJlr",
    "outputId": "fa54dd25-19f7-4c47-f27b-f3f41cf6b386"
   },
   "outputs": [
    {
     "data": {
      "text/plain": [
       "1988"
      ]
     },
     "execution_count": 30,
     "metadata": {
      "tags": []
     },
     "output_type": "execute_result"
    }
   ],
   "source": [
    "len(price)"
   ]
  },
  {
   "cell_type": "code",
   "execution_count": 31,
   "metadata": {
    "colab": {
     "base_uri": "https://localhost:8080/"
    },
    "executionInfo": {
     "elapsed": 1001,
     "status": "ok",
     "timestamp": 1605506383531,
     "user": {
      "displayName": "Budhaditya Saha",
      "photoUrl": "",
      "userId": "05733663512738547915"
     },
     "user_tz": -330
    },
    "id": "47WHdqdpmJlv",
    "outputId": "e601eede-aa59-4713-e22b-2305e893ea99"
   },
   "outputs": [
    {
     "data": {
      "text/plain": [
       "list"
      ]
     },
     "execution_count": 31,
     "metadata": {
      "tags": []
     },
     "output_type": "execute_result"
    }
   ],
   "source": [
    "type(headlines)"
   ]
  },
  {
   "cell_type": "markdown",
   "metadata": {
    "id": "ATv5N2EumJly"
   },
   "source": [
    "<table size=\"100\">\n",
    "    <tr>\n",
    "        <td>headlines</td>\n",
    "        <td>price</td>\n",
    "    </tr>\n",
    "    <tr>\n",
    "        <td>headline-1, headline-2 ..., headline-n</td>\n",
    "        <td>211.48</td>\n",
    "    </tr>\n",
    "</table>"
   ]
  },
  {
   "cell_type": "code",
   "execution_count": 32,
   "metadata": {
    "colab": {
     "base_uri": "https://localhost:8080/"
    },
    "executionInfo": {
     "elapsed": 1038,
     "status": "ok",
     "timestamp": 1605506386336,
     "user": {
      "displayName": "Budhaditya Saha",
      "photoUrl": "",
      "userId": "05733663512738547915"
     },
     "user_tz": -330
    },
    "id": "tiuA8y_pmJly",
    "outputId": "89ebe218-ad3a-48ab-a120-ea0ded689bfd"
   },
   "outputs": [
    {
     "data": {
      "text/plain": [
       "([['Jamaica proposes marijuana dispensers for tourists at airports following legalisation: The kiosks and desks would give people a license to purchase up to 2 ounces of the drug to use during their stay',\n",
       "   \"Stephen Hawking says pollution and 'stupidity' still biggest threats to mankind: we have certainly not become less greedy or less stupid in our treatment of the environment over the past decade\",\n",
       "   'Boris Johnson says he will not run for Tory party leadership',\n",
       "   'Six gay men in Ivory Coast were abused and forced to flee their homes after they were pictured signing a condolence book for victims of the recent attack on a gay nightclub in Florida',\n",
       "   'Switzerland denies citizenship to Muslim immigrant girls who refused to swim with boys: report',\n",
       "   'Palestinian terrorist stabs israeli teen girl to death in her bedroom',\n",
       "   'Puerto Rico will default on $1 billion of debt on Friday',\n",
       "   'Republic of Ireland fans to be awarded medal for sportsmanship by Paris mayor.',\n",
       "   \"Afghan suicide bomber 'kills up to 40' - BBC News\",\n",
       "   'US airstrikes kill at least 250 ISIS fighters in convoy outside Fallujah, official says',\n",
       "   'Turkish Cop Who Took Down Istanbul Gunman Hailed a Hero',\n",
       "   \"Cannabis compounds could treat Alzheimer's by removing plaque-forming proteins from brain cells, research suggests\",\n",
       "   \"Japan's top court has approved blanket surveillance of the country's Muslims: 'They made us terrorist suspects, we never did anything wrong,' says Japanese Muslim, Mohammed Fujita\",\n",
       "   'CIA Gave Romania Millions to Host Secret Prisons',\n",
       "   'Groups urge U.N. to suspend Saudi Arabia from rights council',\n",
       "   'Googles free wifi at Indian railway stations is better than most of the countrys paid services',\n",
       "   \"Mounting evidence suggests 'hobbits' were wiped out by modern humans' ancestors 50,000 years ago.\",\n",
       "   \"The men who carried out Tuesday's terror attack at Istanbul's Ataturk Airport were from Russia, Uzbekistan and Kyrgyzstan, a Turkish offical said.\",\n",
       "   'Calls to suspend Saudi Arabia from UN Human Rights Council because of military aggresion in Yemen',\n",
       "   'More Than 100 Nobel Laureates Call Out Greenpeace For Anti-GMO Obstruction In Developing World',\n",
       "   'British pedophile sentenced to 85 years in US for trafficking child abuse images: Domminich Shaw, a kingpin of sexual violence against children, sent dozens of images online and discussed plans to assault and kill a child while on probation',\n",
       "   'US permitted 1,200 offshore fracks in Gulf of Mexico between 2010 and 2014 and allowed 72 billion gallons of chemical discharge in 2014.',\n",
       "   'We will be swimming in ridicule - French beach police to carry guns while in swimming trunks: Police lifeguards on Frances busiest beaches will carry guns and bullet-proof vests for the first time this summer amid fears that terrorists could target holidaymakers.',\n",
       "   \"UEFA says no minutes of silence for Istanbul victims at Euro 2016 because 'Turkey have already been eliminated'\",\n",
       "   'Law Enforcement Sources: Gun Used in Paris Terrorist Attacks Came from Phoenix']],\n",
       " [211.48046800000157])"
      ]
     },
     "execution_count": 32,
     "metadata": {
      "tags": []
     },
     "output_type": "execute_result"
    }
   ],
   "source": [
    "# Check how headlines look like\n",
    "headlines[:1], price[:1]"
   ]
  },
  {
   "cell_type": "markdown",
   "metadata": {
    "id": "5FUrvoTHmJl0"
   },
   "source": [
    "## Clean up the price list"
   ]
  },
  {
   "cell_type": "code",
   "execution_count": 33,
   "metadata": {
    "colab": {
     "base_uri": "https://localhost:8080/"
    },
    "executionInfo": {
     "elapsed": 984,
     "status": "ok",
     "timestamp": 1605506391840,
     "user": {
      "displayName": "Budhaditya Saha",
      "photoUrl": "",
      "userId": "05733663512738547915"
     },
     "user_tz": -330
    },
    "id": "aYT33O-lmJl0",
    "outputId": "99f22d2e-743b-43ef-c3e8-1164f314d905"
   },
   "outputs": [
    {
     "data": {
      "text/plain": [
       "[211.48046800000157, 256.7402349999975]"
      ]
     },
     "execution_count": 33,
     "metadata": {
      "tags": []
     },
     "output_type": "execute_result"
    }
   ],
   "source": [
    "price[:2]"
   ]
  },
  {
   "cell_type": "code",
   "execution_count": 34,
   "metadata": {
    "executionInfo": {
     "elapsed": 1029,
     "status": "ok",
     "timestamp": 1605506394638,
     "user": {
      "displayName": "Budhaditya Saha",
      "photoUrl": "",
      "userId": "05733663512738547915"
     },
     "user_tz": -330
    },
    "id": "t_OuAbmimJl3"
   },
   "outputs": [],
   "source": [
    "# Normalize opening prices (target values)\n",
    "max_price = max(price)\n",
    "min_price = min(price)\n",
    "mean_price = np.mean(price)\n",
    "def normalize(price):\n",
    "    return ((price-min_price)/(max_price-min_price))"
   ]
  },
  {
   "cell_type": "code",
   "execution_count": 35,
   "metadata": {
    "executionInfo": {
     "elapsed": 1004,
     "status": "ok",
     "timestamp": 1605506398092,
     "user": {
      "displayName": "Budhaditya Saha",
      "photoUrl": "",
      "userId": "05733663512738547915"
     },
     "user_tz": -330
    },
    "id": "T-qaPVJEmJl5"
   },
   "outputs": [],
   "source": [
    "norm_price = []\n",
    "for p in price:\n",
    "    norm_price.append(normalize(p))"
   ]
  },
  {
   "cell_type": "code",
   "execution_count": 36,
   "metadata": {
    "colab": {
     "base_uri": "https://localhost:8080/"
    },
    "executionInfo": {
     "elapsed": 1036,
     "status": "ok",
     "timestamp": 1605506400711,
     "user": {
      "displayName": "Budhaditya Saha",
      "photoUrl": "",
      "userId": "05733663512738547915"
     },
     "user_tz": -330
    },
    "id": "wKyNKTCjmJl7",
    "outputId": "56ec65b7-5823-4f2a-9308-69b92c8c988a"
   },
   "outputs": [
    {
     "name": "stdout",
     "output_type": "stream",
     "text": [
      "0.0\n",
      "1.0\n",
      "0.4551577545098642\n"
     ]
    }
   ],
   "source": [
    "# Check that normalization worked well\n",
    "print(min(norm_price))\n",
    "print(max(norm_price))\n",
    "print(np.mean(norm_price))"
   ]
  },
  {
   "cell_type": "code",
   "execution_count": 37,
   "metadata": {
    "colab": {
     "base_uri": "https://localhost:8080/"
    },
    "executionInfo": {
     "elapsed": 1007,
     "status": "ok",
     "timestamp": 1605506403105,
     "user": {
      "displayName": "Budhaditya Saha",
      "photoUrl": "",
      "userId": "05733663512738547915"
     },
     "user_tz": -330
    },
    "id": "BTHUc0-DmJl8",
    "outputId": "4eaad569-9a8a-43bf-f4d4-3802e412971e"
   },
   "outputs": [
    {
     "name": "stdout",
     "output_type": "stream",
     "text": [
      "25\n",
      "22\n",
      "24.996478873239436\n"
     ]
    }
   ],
   "source": [
    "# Compare the number of headlines for each day\n",
    "print(max(len(i) for i in headlines))\n",
    "print(min(len(i) for i in headlines))\n",
    "print(np.mean([len(i) for i in headlines]))"
   ]
  },
  {
   "cell_type": "code",
   "execution_count": 38,
   "metadata": {
    "colab": {
     "base_uri": "https://localhost:8080/"
    },
    "executionInfo": {
     "elapsed": 1012,
     "status": "ok",
     "timestamp": 1605506405752,
     "user": {
      "displayName": "Budhaditya Saha",
      "photoUrl": "",
      "userId": "05733663512738547915"
     },
     "user_tz": -330
    },
    "id": "4iHDRcL0mJl-",
    "outputId": "5931b678-e80d-40a1-85de-ce4ad6fc4aff"
   },
   "outputs": [
    {
     "data": {
      "text/plain": [
       "[0.5780280759194737, 0.6047364662478155]"
      ]
     },
     "execution_count": 38,
     "metadata": {
      "tags": []
     },
     "output_type": "execute_result"
    }
   ],
   "source": [
    "norm_price[:2]"
   ]
  },
  {
   "cell_type": "markdown",
   "metadata": {
    "id": "1N5TJN07mJmC"
   },
   "source": [
    "## Clean up the headlines list"
   ]
  },
  {
   "cell_type": "code",
   "execution_count": 39,
   "metadata": {
    "colab": {
     "base_uri": "https://localhost:8080/"
    },
    "executionInfo": {
     "elapsed": 1022,
     "status": "ok",
     "timestamp": 1605506409945,
     "user": {
      "displayName": "Budhaditya Saha",
      "photoUrl": "",
      "userId": "05733663512738547915"
     },
     "user_tz": -330
    },
    "id": "cdPAut7xmJmD",
    "outputId": "6b5c4bb3-9963-422c-b4bf-b36ce9083768"
   },
   "outputs": [
    {
     "name": "stdout",
     "output_type": "stream",
     "text": [
      "I should have gone to dentist so my teeth would not hurt\n",
      "But I am good now\n"
     ]
    }
   ],
   "source": [
    "# remove contractions\n",
    "def decontracted(phrase):\n",
    "    if \"'\" in phrase:\n",
    "        # specific\n",
    "        phrase = re.sub(r\"won't\", \"will not\", phrase)\n",
    "        phrase = re.sub(r\"can\\'t\", \"can not\", phrase)\n",
    "\n",
    "        # general\n",
    "        phrase = re.sub(r\"n\\'t\", \" not\", phrase)\n",
    "        phrase = re.sub(r\"\\'re\", \" are\", phrase)\n",
    "        phrase = re.sub(r\"\\'s\", \" is\", phrase)\n",
    "        phrase = re.sub(r\"\\'d\", \" would\", phrase)\n",
    "        phrase = re.sub(r\"\\'ll\", \" will\", phrase)\n",
    "        phrase = re.sub(r\"\\'t\", \" not\", phrase)\n",
    "        phrase = re.sub(r\"\\'ve\", \" have\", phrase)\n",
    "        phrase = re.sub(r\"\\'m\", \" am\", phrase)\n",
    "    return phrase\n",
    "\n",
    "text = \"I should've gone to dentist so my teeth wouldn't hurt\"\n",
    "text1 = \"But I am good now\"\n",
    "print(decontracted(text))\n",
    "print(decontracted(text1))"
   ]
  },
  {
   "cell_type": "code",
   "execution_count": 40,
   "metadata": {
    "executionInfo": {
     "elapsed": 1261,
     "status": "ok",
     "timestamp": 1605506416167,
     "user": {
      "displayName": "Budhaditya Saha",
      "photoUrl": "",
      "userId": "05733663512738547915"
     },
     "user_tz": -330
    },
    "id": "oKPdxA6ymJmF"
   },
   "outputs": [],
   "source": [
    "def clean_text(text):\n",
    "    '''Remove unwanted characters and format the text to create fewer nulls word embeddings'''\n",
    "    \n",
    "    # Convert words to lower case\n",
    "    text = text.lower()\n",
    "    \n",
    "    # Replace contractions with their longer forms \n",
    "    if True:\n",
    "        text = text.split()\n",
    "        new_text = []\n",
    "        # Remove the contractions\n",
    "        for word in text:\n",
    "            new_text.append(decontracted(word))\n",
    "        # Recreate the sentence\n",
    "        text = \" \".join(new_text)\n",
    "    \n",
    "    # Format words and remove unwanted characters\n",
    "    text = re.sub(r'&amp;', '', text) \n",
    "    text = re.sub(r'0,0', '00', text) \n",
    "    text = re.sub(r'[_\"\\-;%()|.,+&=*%.,!?:#@\\[\\]]', ' ', text)\n",
    "    text = re.sub(r'\\'', ' ', text)\n",
    "    text = re.sub(r'\\$', ' $ ', text)\n",
    "    text = re.sub(r'u s ', ' united states ', text)\n",
    "    text = re.sub(r'u n ', ' united nations ', text)\n",
    "    text = re.sub(r'u k ', ' united kingdom ', text)\n",
    "    text = re.sub(r'j k ', ' jk ', text)\n",
    "    text = re.sub(r' s ', ' ', text)\n",
    "    text = re.sub(r' yr ', ' year ', text)\n",
    "    text = re.sub(r' l g b t ', ' lgbt ', text)\n",
    "    text = re.sub(r'0km ', '0 km ', text)\n",
    "    \n",
    "    # Remove stop words\n",
    "    text = text.split()\n",
    "    stops = set(stopwords.words(\"english\"))\n",
    "    text = [w for w in text if not w in stops]\n",
    "    text = \" \".join(text)\n",
    "\n",
    "    return text"
   ]
  },
  {
   "cell_type": "code",
   "execution_count": 41,
   "metadata": {
    "executionInfo": {
     "elapsed": 10054,
     "status": "ok",
     "timestamp": 1605506428825,
     "user": {
      "displayName": "Budhaditya Saha",
      "photoUrl": "",
      "userId": "05733663512738547915"
     },
     "user_tz": -330
    },
    "id": "OfoWjj5imJmH"
   },
   "outputs": [],
   "source": [
    "# Clean the headlines\n",
    "clean_headlines = []\n",
    "\n",
    "for daily_headlines in headlines:\n",
    "    clean_daily_headlines = []\n",
    "    for headline in daily_headlines:\n",
    "        clean_daily_headlines.append(clean_text(headline))\n",
    "    clean_headlines.append(clean_daily_headlines)"
   ]
  },
  {
   "cell_type": "code",
   "execution_count": 42,
   "metadata": {
    "colab": {
     "base_uri": "https://localhost:8080/"
    },
    "executionInfo": {
     "elapsed": 1026,
     "status": "ok",
     "timestamp": 1605506434805,
     "user": {
      "displayName": "Budhaditya Saha",
      "photoUrl": "",
      "userId": "05733663512738547915"
     },
     "user_tz": -330
    },
    "id": "okDa_it_mJmK",
    "outputId": "cb69ddb6-91b0-4cd2-a14d-d20b427d7218"
   },
   "outputs": [
    {
     "data": {
      "text/plain": [
       "[['jamaica proposes marijuana dispensers tourists airports following legalisation kiosks desks would give people license purchase 2 ounces drug use stay',\n",
       "  'stephen hawking says pollution istupidity still biggest threats mankind certainly become less greedy less stupid treatment environment past decade',\n",
       "  'boris johnson says run tory party leadership',\n",
       "  'six gay men ivory coast abused forced flee homes pictured signing condolence book victims recent attack gay nightclub florida',\n",
       "  'switzerland denies citizenship muslim immigrant girls refused swim boys report',\n",
       "  'palestinian terrorist stabs israeli teen girl death bedroom',\n",
       "  'puerto rico default $ 1 billion debt friday',\n",
       "  'republic ireland fans awarded medal sportsmanship paris mayor',\n",
       "  'afghan suicide bomber kills 40 bbc news',\n",
       "  'us airstrikes kill least 250 isis fighters convoy outside fallujah official says',\n",
       "  'turkish cop took istanbul gunman hailed hero',\n",
       "  'cannabis compounds could treat alzheimer removing plaque forming proteins brain cells research suggests',\n",
       "  'japan top court approved blanket surveillance country muslims nothey made us terrorist suspects never anything wrong says japanese muslim mohammed fujita',\n",
       "  'cia gave romania millions host secret prisons',\n",
       "  'groups urge united nations suspend saudi arabia rights council',\n",
       "  'googles free wifi indian railway stations better countrys paid services',\n",
       "  'mounting evidence suggests hobbits wiped modern humans ancestors 50000 years ago',\n",
       "  'men carried tuesday terror attack istanbul ataturk airport russia uzbekistan kyrgyzstan turkish offical said',\n",
       "  'calls suspend saudi arabia un human rights council military aggresion yemen',\n",
       "  '100 nobel laureates call greenpeace anti gmo obstruction developing world',\n",
       "  'british pedophile sentenced 85 years us trafficking child abuse images domminich shaw kingpin sexual violence children sent dozens images online discussed plans assault kill child probation',\n",
       "  'us permitted 1 200 offshore fracks gulf mexico 2010 2014 allowed 72 billion gallons chemical discharge 2014',\n",
       "  'swimming ridicule french beach police carry guns swimming trunks police lifeguards frances busiest beaches carry guns bullet proof vests first time summer amid fears terrorists could target holidaymakers',\n",
       "  'uefa says minutes silence istanbul victims euro 2016 noturkey already eliminated',\n",
       "  'law enforcement sources gun used paris terrorist attacks came phoenix'],\n",
       " ['explosion airport istanbul',\n",
       "  'yemeni former president terrorism offspring wahhabism al saud regime',\n",
       "  'uk must accept freedom movement access eu market',\n",
       "  'devastated scientists late captive breed mammal lost climate change australian conservationists spent 5 months obtaining permissions planning captive breeding program arrived rodents tiny island late',\n",
       "  'british labor party leader jeremy corbyn loses confidence vote refuses resign',\n",
       "  'muslim shop uk firebombed people inside',\n",
       "  'mexican authorities sexually torture women prison',\n",
       "  'uk shares pound continue recover',\n",
       "  'iceland historian johannesson wins presidential election',\n",
       "  '99 million year old bird wings found encased amber finding things trapped amber far rare researchers burma found pair tiny bird like wings frozen inside knew something special',\n",
       "  'chatbot programmed british teenager successfully challenged 160000 parking tickets since launch last year',\n",
       "  'philippine president elect said monday would aggressively promote artificial birth control country even risk getting fight dominant catholic church staunchly opposes use contraceptives',\n",
       "  'former belgian prime minister ridicules nigel farage accuses ukip leader lying eu referendum campaign',\n",
       "  'brexiteer nigel farage eu laughing',\n",
       "  'islamic state bombings southern yemen kill 38 people',\n",
       "  'escape tunnel dug hand found holocaust massacre site',\n",
       "  'land beijing sinking much four inches per year overconsumption groundwater according new research',\n",
       "  'car bomb anti islamic attack mosque perth australia',\n",
       "  'emaciated lions taiz zoo trapped blood soaked cages left starve months due yemeni civil war',\n",
       "  'rupert murdoch describes brexit wonderful media mogul likened leaving eu prison break shared view donald trump able man',\n",
       "  '40 killed yemen suicide attacks',\n",
       "  'google found disastrous symantec norton vulnerabilities bad gets',\n",
       "  'extremist violence rise germany domestic intelligence agency says far right far left islamist radical groups gaining membership country',\n",
       "  'bbc news labour mps pass corbyn confidence motion',\n",
       "  'tiny new zealand town notoo many jobs launches drive recruit outsiders']]"
      ]
     },
     "execution_count": 42,
     "metadata": {
      "tags": []
     },
     "output_type": "execute_result"
    }
   ],
   "source": [
    "# Take a look at some headlines to ensure everything was cleaned well\n",
    "clean_headlines[:2]"
   ]
  },
  {
   "cell_type": "code",
   "execution_count": 43,
   "metadata": {
    "colab": {
     "base_uri": "https://localhost:8080/"
    },
    "executionInfo": {
     "elapsed": 1242,
     "status": "ok",
     "timestamp": 1605506439206,
     "user": {
      "displayName": "Budhaditya Saha",
      "photoUrl": "",
      "userId": "05733663512738547915"
     },
     "user_tz": -330
    },
    "id": "I6XdhmEhmJmM",
    "outputId": "75da8d5b-07ac-42b6-8489-649f23f9e377"
   },
   "outputs": [
    {
     "name": "stdout",
     "output_type": "stream",
     "text": [
      "Roughly the number of unique words in English: 36311\n"
     ]
    }
   ],
   "source": [
    "print('Roughly the number of unique words in English: {}'.format(len({word: None \n",
    "                                                                      for headlines in clean_headlines \n",
    "                                                                      for headline in headlines \n",
    "                                                                      for word in headline.split()})))\n"
   ]
  },
  {
   "cell_type": "code",
   "execution_count": 44,
   "metadata": {
    "executionInfo": {
     "elapsed": 1277,
     "status": "ok",
     "timestamp": 1605506443516,
     "user": {
      "displayName": "Budhaditya Saha",
      "photoUrl": "",
      "userId": "05733663512738547915"
     },
     "user_tz": -330
    },
    "id": "Qmd-5AnHmJmP"
   },
   "outputs": [],
   "source": [
    "x = {word: None for headlines in clean_headlines for headline in headlines for word in headline.split()}"
   ]
  },
  {
   "cell_type": "code",
   "execution_count": 1,
   "metadata": {
    "id": "nfxE7LOMmJmS",
    "outputId": "b1a28a4c-9057-4ee9-f0a5-bb842e0dfb59"
   },
   "outputs": [],
   "source": [
    "#x"
   ]
  },
  {
   "cell_type": "code",
   "execution_count": 45,
   "metadata": {
    "executionInfo": {
     "elapsed": 1121,
     "status": "ok",
     "timestamp": 1605506449017,
     "user": {
      "displayName": "Budhaditya Saha",
      "photoUrl": "",
      "userId": "05733663512738547915"
     },
     "user_tz": -330
    },
    "id": "uIrf0-ezmJmV"
   },
   "outputs": [],
   "source": [
    "# Create the word vocab\n",
    "import collections\n",
    "words = [word for headlines in clean_headlines for headline in headlines for word in headline.split()]\n",
    "word_counts = collections.Counter(words)"
   ]
  },
  {
   "cell_type": "code",
   "execution_count": 46,
   "metadata": {
    "colab": {
     "base_uri": "https://localhost:8080/"
    },
    "executionInfo": {
     "elapsed": 1104,
     "status": "ok",
     "timestamp": 1605506453206,
     "user": {
      "displayName": "Budhaditya Saha",
      "photoUrl": "",
      "userId": "05733663512738547915"
     },
     "user_tz": -330
    },
    "id": "a1u5zbzJmJmX",
    "outputId": "5940d4d8-77ee-48be-d53b-fa6a5f3ba1a5"
   },
   "outputs": [
    {
     "data": {
      "text/plain": [
       "Counter({'jamaica': 23,\n",
       "         'proposes': 65,\n",
       "         'marijuana': 216,\n",
       "         'dispensers': 1,\n",
       "         'tourists': 95,\n",
       "         'airports': 33,\n",
       "         'following': 219,\n",
       "         'legalisation': 4,\n",
       "         'kiosks': 2,\n",
       "         'desks': 1,\n",
       "         'would': 888,\n",
       "         'give': 289,\n",
       "         'people': 1887,\n",
       "         'license': 21,\n",
       "         'purchase': 26,\n",
       "         '2': 733,\n",
       "         'ounces': 2,\n",
       "         'drug': 648,\n",
       "         'use': 605,\n",
       "         'stay': 107,\n",
       "         'stephen': 59,\n",
       "         'hawking': 23,\n",
       "         'says': 2563,\n",
       "         'pollution': 135,\n",
       "         'istupidity': 2,\n",
       "         'still': 326,\n",
       "         'biggest': 331,\n",
       "         'threats': 118,\n",
       "         'mankind': 13,\n",
       "         'certainly': 12,\n",
       "         'become': 314,\n",
       "         'less': 204,\n",
       "         'greedy': 6,\n",
       "         'stupid': 27,\n",
       "         'treatment': 133,\n",
       "         'environment': 96,\n",
       "         'past': 242,\n",
       "         'decade': 109,\n",
       "         'boris': 23,\n",
       "         'johnson': 24,\n",
       "         'run': 291,\n",
       "         'tory': 24,\n",
       "         'party': 512,\n",
       "         'leadership': 54,\n",
       "         'six': 295,\n",
       "         'gay': 444,\n",
       "         'men': 520,\n",
       "         'ivory': 106,\n",
       "         'coast': 209,\n",
       "         'abused': 54,\n",
       "         'forced': 334,\n",
       "         'flee': 91,\n",
       "         'homes': 199,\n",
       "         'pictured': 4,\n",
       "         'signing': 23,\n",
       "         'condolence': 2,\n",
       "         'book': 90,\n",
       "         'victims': 240,\n",
       "         'recent': 177,\n",
       "         'attack': 951,\n",
       "         'nightclub': 11,\n",
       "         'florida': 11,\n",
       "         'switzerland': 111,\n",
       "         'denies': 113,\n",
       "         'citizenship': 77,\n",
       "         'muslim': 504,\n",
       "         'immigrant': 28,\n",
       "         'girls': 230,\n",
       "         'refused': 96,\n",
       "         'swim': 18,\n",
       "         'boys': 94,\n",
       "         'report': 869,\n",
       "         'palestinian': 638,\n",
       "         'terrorist': 242,\n",
       "         'stabs': 9,\n",
       "         'israeli': 1322,\n",
       "         'teen': 65,\n",
       "         'girl': 361,\n",
       "         'death': 953,\n",
       "         'bedroom': 4,\n",
       "         'puerto': 19,\n",
       "         'rico': 17,\n",
       "         'default': 32,\n",
       "         '$': 1569,\n",
       "         '1': 935,\n",
       "         'billion': 597,\n",
       "         'debt': 192,\n",
       "         'friday': 162,\n",
       "         'republic': 114,\n",
       "         'ireland': 222,\n",
       "         'fans': 31,\n",
       "         'awarded': 43,\n",
       "         'medal': 20,\n",
       "         'sportsmanship': 1,\n",
       "         'paris': 228,\n",
       "         'mayor': 145,\n",
       "         'afghan': 420,\n",
       "         'suicide': 329,\n",
       "         'bomber': 100,\n",
       "         'kills': 309,\n",
       "         '40': 247,\n",
       "         'bbc': 517,\n",
       "         'news': 1003,\n",
       "         'us': 3030,\n",
       "         'airstrikes': 69,\n",
       "         'kill': 444,\n",
       "         'least': 473,\n",
       "         '250': 38,\n",
       "         'isis': 702,\n",
       "         'fighters': 164,\n",
       "         'convoy': 35,\n",
       "         'outside': 183,\n",
       "         'fallujah': 12,\n",
       "         'official': 489,\n",
       "         'turkish': 383,\n",
       "         'cop': 45,\n",
       "         'took': 153,\n",
       "         'istanbul': 54,\n",
       "         'gunman': 57,\n",
       "         'hailed': 21,\n",
       "         'hero': 50,\n",
       "         'cannabis': 117,\n",
       "         'compounds': 1,\n",
       "         'could': 978,\n",
       "         'treat': 26,\n",
       "         'alzheimer': 5,\n",
       "         'removing': 29,\n",
       "         'plaque': 2,\n",
       "         'forming': 14,\n",
       "         'proteins': 4,\n",
       "         'brain': 58,\n",
       "         'cells': 51,\n",
       "         'research': 170,\n",
       "         'suggests': 101,\n",
       "         'japan': 791,\n",
       "         'top': 525,\n",
       "         'court': 1034,\n",
       "         'approved': 108,\n",
       "         'blanket': 13,\n",
       "         'surveillance': 288,\n",
       "         'country': 1218,\n",
       "         'muslims': 285,\n",
       "         'nothey': 27,\n",
       "         'made': 410,\n",
       "         'suspects': 92,\n",
       "         'never': 221,\n",
       "         'anything': 53,\n",
       "         'wrong': 125,\n",
       "         'japanese': 323,\n",
       "         'mohammed': 46,\n",
       "         'fujita': 1,\n",
       "         'cia': 294,\n",
       "         'gave': 95,\n",
       "         'romania': 53,\n",
       "         'millions': 223,\n",
       "         'host': 70,\n",
       "         'secret': 435,\n",
       "         'prisons': 34,\n",
       "         'groups': 245,\n",
       "         'urge': 57,\n",
       "         'united': 2402,\n",
       "         'nations': 570,\n",
       "         'suspend': 35,\n",
       "         'saudi': 765,\n",
       "         'arabia': 408,\n",
       "         'rights': 859,\n",
       "         'council': 185,\n",
       "         'googles': 2,\n",
       "         'free': 470,\n",
       "         'wifi': 7,\n",
       "         'indian': 397,\n",
       "         'railway': 33,\n",
       "         'stations': 42,\n",
       "         'better': 121,\n",
       "         'countrys': 100,\n",
       "         'paid': 149,\n",
       "         'services': 122,\n",
       "         'mounting': 28,\n",
       "         'evidence': 305,\n",
       "         'hobbits': 1,\n",
       "         'wiped': 36,\n",
       "         'modern': 99,\n",
       "         'humans': 87,\n",
       "         'ancestors': 9,\n",
       "         '50000': 51,\n",
       "         'years': 1544,\n",
       "         'ago': 255,\n",
       "         'carried': 77,\n",
       "         'tuesday': 280,\n",
       "         'terror': 316,\n",
       "         'ataturk': 1,\n",
       "         'airport': 188,\n",
       "         'russia': 1701,\n",
       "         'uzbekistan': 10,\n",
       "         'kyrgyzstan': 27,\n",
       "         'offical': 2,\n",
       "         'said': 1185,\n",
       "         'calls': 585,\n",
       "         'un': 1015,\n",
       "         'human': 817,\n",
       "         'military': 1114,\n",
       "         'aggresion': 1,\n",
       "         'yemen': 190,\n",
       "         '100': 354,\n",
       "         'nobel': 151,\n",
       "         'laureates': 7,\n",
       "         'call': 323,\n",
       "         'greenpeace': 46,\n",
       "         'anti': 825,\n",
       "         'gmo': 17,\n",
       "         'obstruction': 3,\n",
       "         'developing': 85,\n",
       "         'world': 2245,\n",
       "         'british': 861,\n",
       "         'pedophile': 36,\n",
       "         'sentenced': 258,\n",
       "         '85': 32,\n",
       "         'trafficking': 99,\n",
       "         'child': 479,\n",
       "         'abuse': 354,\n",
       "         'images': 117,\n",
       "         'domminich': 1,\n",
       "         'shaw': 3,\n",
       "         'kingpin': 14,\n",
       "         'sexual': 202,\n",
       "         'violence': 351,\n",
       "         'children': 773,\n",
       "         'sent': 166,\n",
       "         'dozens': 142,\n",
       "         'online': 271,\n",
       "         'discussed': 15,\n",
       "         'plans': 427,\n",
       "         'assault': 123,\n",
       "         'probation': 2,\n",
       "         'permitted': 20,\n",
       "         '200': 173,\n",
       "         'offshore': 74,\n",
       "         'fracks': 1,\n",
       "         'gulf': 116,\n",
       "         'mexico': 550,\n",
       "         '2010': 124,\n",
       "         '2014': 108,\n",
       "         'allowed': 163,\n",
       "         '72': 34,\n",
       "         'gallons': 13,\n",
       "         'chemical': 154,\n",
       "         'discharge': 6,\n",
       "         'swimming': 16,\n",
       "         'ridicule': 8,\n",
       "         'french': 652,\n",
       "         'beach': 47,\n",
       "         'police': 1963,\n",
       "         'carry': 77,\n",
       "         'guns': 58,\n",
       "         'trunks': 3,\n",
       "         'lifeguards': 1,\n",
       "         'frances': 22,\n",
       "         'busiest': 3,\n",
       "         'beaches': 22,\n",
       "         'bullet': 28,\n",
       "         'proof': 52,\n",
       "         'vests': 10,\n",
       "         'first': 1338,\n",
       "         'time': 762,\n",
       "         'summer': 58,\n",
       "         'amid': 215,\n",
       "         'fears': 177,\n",
       "         'terrorists': 171,\n",
       "         'target': 110,\n",
       "         'holidaymakers': 2,\n",
       "         'uefa': 3,\n",
       "         'minutes': 89,\n",
       "         'silence': 53,\n",
       "         'euro': 165,\n",
       "         '2016': 57,\n",
       "         'noturkey': 17,\n",
       "         'already': 168,\n",
       "         'eliminated': 10,\n",
       "         'law': 882,\n",
       "         'enforcement': 45,\n",
       "         'sources': 90,\n",
       "         'gun': 101,\n",
       "         'used': 429,\n",
       "         'attacks': 509,\n",
       "         'came': 87,\n",
       "         'phoenix': 3,\n",
       "         'explosion': 120,\n",
       "         'yemeni': 45,\n",
       "         'former': 637,\n",
       "         'president': 1422,\n",
       "         'terrorism': 205,\n",
       "         'offspring': 2,\n",
       "         'wahhabism': 3,\n",
       "         'al': 646,\n",
       "         'saud': 7,\n",
       "         'regime': 203,\n",
       "         'uk': 1427,\n",
       "         'must': 374,\n",
       "         'accept': 80,\n",
       "         'freedom': 230,\n",
       "         'movement': 101,\n",
       "         'access': 225,\n",
       "         'eu': 675,\n",
       "         'market': 189,\n",
       "         'devastated': 14,\n",
       "         'scientists': 401,\n",
       "         'late': 73,\n",
       "         'captive': 26,\n",
       "         'breed': 7,\n",
       "         'mammal': 10,\n",
       "         'lost': 231,\n",
       "         'climate': 423,\n",
       "         'change': 423,\n",
       "         'australian': 566,\n",
       "         'conservationists': 17,\n",
       "         'spent': 101,\n",
       "         '5': 575,\n",
       "         'months': 366,\n",
       "         'obtaining': 10,\n",
       "         'permissions': 1,\n",
       "         'planning': 142,\n",
       "         'breeding': 7,\n",
       "         'program': 179,\n",
       "         'arrived': 27,\n",
       "         'rodents': 2,\n",
       "         'tiny': 49,\n",
       "         'island': 154,\n",
       "         'labor': 91,\n",
       "         'leader': 609,\n",
       "         'jeremy': 21,\n",
       "         'corbyn': 15,\n",
       "         'loses': 96,\n",
       "         'confidence': 28,\n",
       "         'vote': 290,\n",
       "         'refuses': 129,\n",
       "         'resign': 75,\n",
       "         'shop': 31,\n",
       "         'firebombed': 7,\n",
       "         'inside': 186,\n",
       "         'mexican': 278,\n",
       "         'authorities': 309,\n",
       "         'sexually': 67,\n",
       "         'torture': 263,\n",
       "         'women': 869,\n",
       "         'prison': 459,\n",
       "         'shares': 37,\n",
       "         'pound': 30,\n",
       "         'continue': 136,\n",
       "         'recover': 15,\n",
       "         'iceland': 197,\n",
       "         'historian': 10,\n",
       "         'johannesson': 1,\n",
       "         'wins': 142,\n",
       "         'presidential': 133,\n",
       "         'election': 325,\n",
       "         '99': 46,\n",
       "         'million': 894,\n",
       "         'year': 1680,\n",
       "         'old': 916,\n",
       "         'bird': 37,\n",
       "         'wings': 8,\n",
       "         'found': 987,\n",
       "         'encased': 3,\n",
       "         'amber': 3,\n",
       "         'finding': 57,\n",
       "         'things': 67,\n",
       "         'trapped': 70,\n",
       "         'far': 276,\n",
       "         'rare': 135,\n",
       "         'researchers': 132,\n",
       "         'burma': 55,\n",
       "         'pair': 15,\n",
       "         'like': 569,\n",
       "         'frozen': 44,\n",
       "         'knew': 65,\n",
       "         'something': 85,\n",
       "         'special': 126,\n",
       "         'chatbot': 1,\n",
       "         'programmed': 2,\n",
       "         'teenager': 63,\n",
       "         'successfully': 60,\n",
       "         'challenged': 15,\n",
       "         '160000': 6,\n",
       "         'parking': 18,\n",
       "         'tickets': 11,\n",
       "         'since': 538,\n",
       "         'launch': 174,\n",
       "         'last': 696,\n",
       "         'philippine': 44,\n",
       "         'elect': 16,\n",
       "         'monday': 260,\n",
       "         'aggressively': 7,\n",
       "         'promote': 36,\n",
       "         'artificial': 29,\n",
       "         'birth': 95,\n",
       "         'control': 309,\n",
       "         'even': 458,\n",
       "         'risk': 161,\n",
       "         'getting': 153,\n",
       "         'fight': 357,\n",
       "         'dominant': 6,\n",
       "         'catholic': 221,\n",
       "         'church': 323,\n",
       "         'staunchly': 3,\n",
       "         'opposes': 21,\n",
       "         'contraceptives': 7,\n",
       "         'belgian': 61,\n",
       "         'prime': 547,\n",
       "         'minister': 1064,\n",
       "         'ridicules': 2,\n",
       "         'nigel': 10,\n",
       "         'farage': 10,\n",
       "         'accuses': 120,\n",
       "         'ukip': 6,\n",
       "         'lying': 35,\n",
       "         'referendum': 102,\n",
       "         'campaign': 237,\n",
       "         'brexiteer': 1,\n",
       "         'laughing': 9,\n",
       "         'islamic': 587,\n",
       "         'state': 1243,\n",
       "         'bombings': 52,\n",
       "         'southern': 158,\n",
       "         '38': 32,\n",
       "         'escape': 82,\n",
       "         'tunnel': 52,\n",
       "         'dug': 7,\n",
       "         'hand': 130,\n",
       "         'holocaust': 96,\n",
       "         'massacre': 200,\n",
       "         'site': 216,\n",
       "         'land': 321,\n",
       "         'beijing': 172,\n",
       "         'sinking': 30,\n",
       "         'much': 312,\n",
       "         'four': 387,\n",
       "         'inches': 10,\n",
       "         'per': 200,\n",
       "         'overconsumption': 3,\n",
       "         'groundwater': 12,\n",
       "         'according': 345,\n",
       "         'new': 2425,\n",
       "         'car': 233,\n",
       "         'bomb': 345,\n",
       "         'mosque': 123,\n",
       "         'perth': 8,\n",
       "         'australia': 559,\n",
       "         'emaciated': 4,\n",
       "         'lions': 29,\n",
       "         'taiz': 1,\n",
       "         'zoo': 43,\n",
       "         'blood': 123,\n",
       "         'soaked': 4,\n",
       "         'cages': 9,\n",
       "         'left': 285,\n",
       "         'starve': 17,\n",
       "         'due': 221,\n",
       "         'civil': 191,\n",
       "         'war': 1593,\n",
       "         'rupert': 81,\n",
       "         'murdoch': 171,\n",
       "         'describes': 26,\n",
       "         'brexit': 23,\n",
       "         'wonderful': 5,\n",
       "         'media': 461,\n",
       "         'mogul': 7,\n",
       "         'likened': 7,\n",
       "         'leaving': 117,\n",
       "         'break': 134,\n",
       "         'shared': 28,\n",
       "         'view': 77,\n",
       "         'donald': 27,\n",
       "         'trump': 43,\n",
       "         'able': 103,\n",
       "         'man': 928,\n",
       "         'killed': 1326,\n",
       "         'google': 324,\n",
       "         'disastrous': 12,\n",
       "         'symantec': 2,\n",
       "         'norton': 3,\n",
       "         'vulnerabilities': 2,\n",
       "         'bad': 139,\n",
       "         'gets': 271,\n",
       "         'extremist': 56,\n",
       "         'rise': 233,\n",
       "         'germany': 780,\n",
       "         'domestic': 68,\n",
       "         'intelligence': 334,\n",
       "         'agency': 271,\n",
       "         'right': 555,\n",
       "         'islamist': 139,\n",
       "         'radical': 84,\n",
       "         'gaining': 22,\n",
       "         'membership': 48,\n",
       "         'labour': 86,\n",
       "         'mps': 87,\n",
       "         'pass': 63,\n",
       "         'motion': 23,\n",
       "         'zealand': 233,\n",
       "         'town': 219,\n",
       "         'notoo': 17,\n",
       "         'many': 450,\n",
       "         'jobs': 102,\n",
       "         'launches': 131,\n",
       "         'drive': 85,\n",
       "         'recruit': 21,\n",
       "         'outsiders': 7,\n",
       "         '500': 193,\n",
       "         'want': 365,\n",
       "         'save': 177,\n",
       "         'great': 231,\n",
       "         'barrier': 82,\n",
       "         'reef': 93,\n",
       "         'stop': 443,\n",
       "         'supporting': 51,\n",
       "         'coal': 151,\n",
       "         'personal': 132,\n",
       "         'details': 87,\n",
       "         '112': 12,\n",
       "         '000': 804,\n",
       "         'officers': 217,\n",
       "         'uploaded': 10,\n",
       "         'security': 613,\n",
       "         'breach': 47,\n",
       "         'fortnight': 3,\n",
       "         'two': 1149,\n",
       "         'murdered': 119,\n",
       "         'home': 423,\n",
       "         'jihadist': 24,\n",
       "         'sp': 16,\n",
       "         'cuts': 166,\n",
       "         'kingdom': 148,\n",
       "         'sovereign': 40,\n",
       "         'credit': 85,\n",
       "         'rating': 39,\n",
       "         'aa': 1,\n",
       "         'aaa': 9,\n",
       "         'huge': 213,\n",
       "         'helium': 6,\n",
       "         'deposit': 10,\n",
       "         'africa': 428,\n",
       "         'ceo': 72,\n",
       "         'south': 929,\n",
       "         'african': 287,\n",
       "         'broadcaster': 18,\n",
       "         'quits': 41,\n",
       "         'shortly': 20,\n",
       "         'negative': 34,\n",
       "         'banned': 300,\n",
       "         'cost': 159,\n",
       "         'investors': 43,\n",
       "         'trillion': 85,\n",
       "         'worst': 193,\n",
       "         'one': 1415,\n",
       "         'day': 528,\n",
       "         'drop': 100,\n",
       "         'ever': 301,\n",
       "         'hong': 170,\n",
       "         'kong': 163,\n",
       "         'democracy': 218,\n",
       "         'activists': 285,\n",
       "         'return': 210,\n",
       "         'rule': 119,\n",
       "         'step': 129,\n",
       "         'independence': 117,\n",
       "         'join': 190,\n",
       "         'notriangle': 1,\n",
       "         'non': 168,\n",
       "         'countries': 537,\n",
       "         'osborne': 7,\n",
       "         'absolutely': 26,\n",
       "         'going': 260,\n",
       "         'cut': 272,\n",
       "         'spending': 88,\n",
       "         'raise': 104,\n",
       "         'taxes': 93,\n",
       "         'wouldo': 12,\n",
       "         'let': 160,\n",
       "         'scotland': 134,\n",
       "         'scottish': 68,\n",
       "         'mep': 7,\n",
       "         'alyn': 1,\n",
       "         'smith': 12,\n",
       "         'urged': 70,\n",
       "         'members': 262,\n",
       "         'european': 598,\n",
       "         'parliament': 457,\n",
       "         'stand': 109,\n",
       "         'hit': 380,\n",
       "         'history': 271,\n",
       "         'making': 240,\n",
       "         'dollar': 107,\n",
       "         'parity': 4,\n",
       "         'end': 515,\n",
       "         'merkel': 143,\n",
       "         'vows': 103,\n",
       "         'strengthen': 18,\n",
       "         'tells': 235,\n",
       "         'cherry': 3,\n",
       "         'picking': 11,\n",
       "         'ryanair': 8,\n",
       "         'deploy': 33,\n",
       "         'aircraft': 128,\n",
       "         'routes': 18,\n",
       "         'next': 318,\n",
       "         '2017': 17,\n",
       "         'instead': 136,\n",
       "         'focus': 32,\n",
       "         'union': 270,\n",
       "         'destroy': 116,\n",
       "         'larry': 4,\n",
       "         'king': 164,\n",
       "         'siemens': 5,\n",
       "         'freezes': 19,\n",
       "         'wind': 115,\n",
       "         'power': 593,\n",
       "         'investment': 59,\n",
       "         'canada': 679,\n",
       "         'pledge': 54,\n",
       "         '50': 308,\n",
       "         'clean': 122,\n",
       "         'energy': 350,\n",
       "         '2025': 10,\n",
       "         'increasing': 58,\n",
       "         'torturing': 26,\n",
       "         'refugees': 218,\n",
       "         'medical': 167,\n",
       "         'experts': 164,\n",
       "         'claim': 215,\n",
       "         'richard': 53,\n",
       "         'branson': 12,\n",
       "         'founder': 183,\n",
       "         'virgin': 27,\n",
       "         'group': 591,\n",
       "         'company': 351,\n",
       "         'third': 193,\n",
       "         'value': 53,\n",
       "         'voted': 91,\n",
       "         'leave': 228,\n",
       "         'week': 362,\n",
       "         '37': 28,\n",
       "         'skull': 16,\n",
       "         'borneo': 11,\n",
       "         'reveals': 199,\n",
       "         'surprise': 56,\n",
       "         'study': 301,\n",
       "         'deep': 94,\n",
       "         'oldest': 71,\n",
       "         'discovered': 209,\n",
       "         'se': 11,\n",
       "         'asia': 129,\n",
       "         'ancient': 170,\n",
       "         'person': 127,\n",
       "         'related': 78,\n",
       "         'indigenous': 84,\n",
       "         'australians': 38,\n",
       "         'originally': 16,\n",
       "         'thought': 159,\n",
       "         'discovery': 72,\n",
       "         'game': 91,\n",
       "         'changer': 6,\n",
       "         'palestinians': 375,\n",
       "         'stone': 46,\n",
       "         'western': 288,\n",
       "         'wall': 126,\n",
       "         'worshipers': 3,\n",
       "         'shut': 146,\n",
       "         'temple': 53,\n",
       "         'mount': 48,\n",
       "         'jean': 20,\n",
       "         'claude': 3,\n",
       "         'juncker': 3,\n",
       "         'asks': 130,\n",
       "         'romanians': 7,\n",
       "         'remainians': 1,\n",
       "         'offering': 32,\n",
       "         '48': 50,\n",
       "         'britons': 41,\n",
       "         'bucharest': 8,\n",
       "         'newspaper': 182,\n",
       "         'app': 30,\n",
       "         'connects': 5,\n",
       "         'loving': 5,\n",
       "         'romanian': 28,\n",
       "         'families': 141,\n",
       "         'needy': 4,\n",
       "         'brits': 17,\n",
       "         'allowing': 103,\n",
       "         'offer': 78,\n",
       "         'help': 436,\n",
       "         'immigrants': 67,\n",
       "         'apply': 31,\n",
       "         'id': 43,\n",
       "         'gibraltar': 8,\n",
       "         'talks': 244,\n",
       "         '8': 311,\n",
       "         'bombers': 81,\n",
       "         'strike': 416,\n",
       "         'lebanon': 118,\n",
       "         'forces': 654,\n",
       "         'routinely': 18,\n",
       "         'isexual': 3,\n",
       "         'amnesty': 112,\n",
       "         'international': 681,\n",
       "         'compiled': 3,\n",
       "         'testimonies': 5,\n",
       "         'despite': 301,\n",
       "         'thousands': 544,\n",
       "         'complaints': 38,\n",
       "         '15': 299,\n",
       "         'probes': 14,\n",
       "         'led': 197,\n",
       "         'criminal': 206,\n",
       "         'convictions': 12,\n",
       "         '1991': 5,\n",
       "         'barclays': 23,\n",
       "         'rbs': 14,\n",
       "         'suspended': 74,\n",
       "         'trading': 49,\n",
       "         'tanking': 5,\n",
       "         'pope': 343,\n",
       "         'ask': 98,\n",
       "         'forgiveness': 6,\n",
       "         'gays': 60,\n",
       "         'poland': 155,\n",
       "         'ishocked': 3,\n",
       "         'xenophobic': 5,\n",
       "         'poles': 9,\n",
       "         'second': 267,\n",
       "         'cabinet': 88,\n",
       "         'agrees': 59,\n",
       "         'welcome': 60,\n",
       "         'ally': 58,\n",
       "         'sterling': 2,\n",
       "         'dips': 5,\n",
       "         '31': 42,\n",
       "         'low': 147,\n",
       "         'uncertainty': 4,\n",
       "         'surge': 42,\n",
       "         'hate': 73,\n",
       "         'crimes': 318,\n",
       "         'weapons': 415,\n",
       "         'shipped': 9,\n",
       "         'jordan': 93,\n",
       "         'intended': 30,\n",
       "         'syrian': 610,\n",
       "         'rebels': 363,\n",
       "         'systematically': 15,\n",
       "         'stolen': 113,\n",
       "         'jordanian': 22,\n",
       "         'operatives': 13,\n",
       "         'sold': 127,\n",
       "         'arms': 247,\n",
       "         'merchants': 5,\n",
       "         'black': 224,\n",
       "         'american': 549,\n",
       "         'officials': 601,\n",
       "         'angela': 66,\n",
       "         'file': 69,\n",
       "         'exit': 46,\n",
       "         'papers': 96,\n",
       "         'begin': 95,\n",
       "         'hope': 78,\n",
       "         'threatened': 146,\n",
       "         'species': 115,\n",
       "         'aquarium': 3,\n",
       "         'osaka': 5,\n",
       "         'succeeded': 10,\n",
       "         'artificially': 7,\n",
       "         'rockhopper': 2,\n",
       "         'penguin': 8,\n",
       "         'sky': 44,\n",
       "         'journalist': 215,\n",
       "         'speechless': 6,\n",
       "         'mp': 135,\n",
       "         'nothere': 22,\n",
       "         'plan': 347,\n",
       "         'giant': 170,\n",
       "         'panda': 11,\n",
       "         'macau': 1,\n",
       "         'gives': 140,\n",
       "         'twins': 9,\n",
       "         'get': 467,\n",
       "         'britain': 490,\n",
       "         'invoke': 3,\n",
       "         'article': 98,\n",
       "         'sea': 391,\n",
       "         'turtle': 17,\n",
       "         'beaten': 128,\n",
       "         'dead': 737,\n",
       "         'taking': 215,\n",
       "         'selfies': 2,\n",
       "         'loggerhead': 2,\n",
       "         'receiving': 29,\n",
       "         'sticks': 15,\n",
       "         'stepped': 18,\n",
       "         'german': 701,\n",
       "         'lawyers': 75,\n",
       "         'probe': 143,\n",
       "         'erdogan': 129,\n",
       "         'alleged': 197,\n",
       "         'intensify': 11,\n",
       "         'cooperation': 42,\n",
       "         'fellow': 27,\n",
       "         'supporters': 86,\n",
       "         '52': 36,\n",
       "         'win': 132,\n",
       "         'entirely': 28,\n",
       "         'overwhelming': 19,\n",
       "         'calling': 181,\n",
       "         'government': 2076,\n",
       "         'hold': 143,\n",
       "         'prevent': 142,\n",
       "         'irreversible': 16,\n",
       "         'damage': 108,\n",
       "         'turkey': 544,\n",
       "         'isorry': 2,\n",
       "         'downing': 25,\n",
       "         'russian': 1222,\n",
       "         'jet': 98,\n",
       "         'edward': 182,\n",
       "         'snowden': 445,\n",
       "         'lawyer': 121,\n",
       "         'push': 101,\n",
       "         'pardon': 13,\n",
       "         'obama': 533,\n",
       "         'opinion': 52,\n",
       "         'poll': 132,\n",
       "         'majority': 108,\n",
       "         'half': 277,\n",
       "         'adults': 33,\n",
       "         'say': 852,\n",
       "         'happy': 41,\n",
       "         'result': 114,\n",
       "         'five': 400,\n",
       "         '43': 61,\n",
       "         'saying': 243,\n",
       "         'unhappy': 13,\n",
       "         'outcome': 13,\n",
       "         'conservative': 101,\n",
       "         'campaigner': 13,\n",
       "         'post': 207,\n",
       "         'economists': 20,\n",
       "         'predict': 19,\n",
       "         'recession': 77,\n",
       "         'weakening': 9,\n",
       "         'isuperstate': 1,\n",
       "         'france': 659,\n",
       "         'creating': 71,\n",
       "         'superstate': 2,\n",
       "         'limiting': 12,\n",
       "         'powers': 116,\n",
       "         'individual': 25,\n",
       "         'britains': 24,\n",
       "         'decision': 124,\n",
       "         'pakistani': 238,\n",
       "         'clerics': 39,\n",
       "         'declare': 55,\n",
       "         'transgender': 17,\n",
       "         'marriages': 29,\n",
       "         'legal': 285,\n",
       "         'david': 217,\n",
       "         'cameron': 181,\n",
       "         'pm': 356,\n",
       "         'forecasts': 8,\n",
       "         'votes': 114,\n",
       "         'nicola': 4,\n",
       "         'sturgeon': 5,\n",
       "         'highly': 72,\n",
       "         'likely': 217,\n",
       "         'largest': 394,\n",
       "         'tibetan': 47,\n",
       "         'buddhist': 32,\n",
       "         'institute': 35,\n",
       "         'ordered': 209,\n",
       "         'demolished': 10,\n",
       "         'chinese': 967,\n",
       "         'single': 132,\n",
       "         'place': 183,\n",
       "         'rich': 164,\n",
       "         'richer': 17,\n",
       "         'expense': 15,\n",
       "         'poor': 195,\n",
       "         'oxfam': 18,\n",
       "         'warns': 362,\n",
       "         'spanish': 165,\n",
       "         'returned': 48,\n",
       "         'spain': 267,\n",
       "         'back': 554,\n",
       "         'drops': 66,\n",
       "         'nearly': 296,\n",
       "         'strong': 83,\n",
       "         'results': 81,\n",
       "         'newcastle': 3,\n",
       "         'jk': 2,\n",
       "         'rowling': 2,\n",
       "         'leads': 61,\n",
       "         'charge': 131,\n",
       "         'buenos': 12,\n",
       "         'aires': 12,\n",
       "         'close': 200,\n",
       "         '140': 24,\n",
       "         'captivity': 5,\n",
       "         'degrading': 5,\n",
       "         'horacio': 1,\n",
       "         'rodrguez': 1,\n",
       "         'larreta': 1,\n",
       "         'zoos': 5,\n",
       "         'animals': 117,\n",
       "         'gradually': 4,\n",
       "         'moved': 45,\n",
       "         'nature': 63,\n",
       "         'reserves': 57,\n",
       "         'argentina': 137,\n",
       "         'provide': 84,\n",
       "         'suitable': 5,\n",
       "         'northern': 251,\n",
       "         'deputy': 64,\n",
       "         'polls': 30,\n",
       "         'polling': 10,\n",
       "         'happened': 62,\n",
       "         'petition': 59,\n",
       "         'popular': 87,\n",
       "         'crashing': 7,\n",
       "         'north': 1271,\n",
       "         'korea': 1214,\n",
       "         'printing': 16,\n",
       "         'massive': 237,\n",
       "         'amounts': 37,\n",
       "         'fake': 134,\n",
       "         'currency': 121,\n",
       "         'defectors': 27,\n",
       "         'sinn': 5,\n",
       "         'fein': 6,\n",
       "         'irish': 192,\n",
       "         'reunification': 16,\n",
       "         '70': 133,\n",
       "         'sharemarket': 1,\n",
       "         'disowns': 2,\n",
       "         '350m': 1,\n",
       "         'nhs': 41,\n",
       "         'hours': 266,\n",
       "         'soon': 138,\n",
       "         'possible': 184,\n",
       "         '350': 21,\n",
       "         'fund': 135,\n",
       "         'big': 269,\n",
       "         'mistake': 47,\n",
       "         'captions': 1,\n",
       "         'takes': 177,\n",
       "         'every': 299,\n",
       "         'send': 155,\n",
       "         'stamped': 2,\n",
       "         'material': 64,\n",
       "         'london': 425,\n",
       "         'banking': 95,\n",
       "         'job': 134,\n",
       "         'start': 161,\n",
       "         'large': 186,\n",
       "         'spike': 13,\n",
       "         'searches': 22,\n",
       "         'passport': 43,\n",
       "         'applications': 12,\n",
       "         'broke': 74,\n",
       "         'backs': 67,\n",
       "         'remain': 85,\n",
       "         '94': 17,\n",
       "         'night': 149,\n",
       "         'residents': 142,\n",
       "         'guilty': 193,\n",
       "         'insulting': 81,\n",
       "         'recep': 24,\n",
       "         'tayyip': 28,\n",
       "         'depicting': 14,\n",
       "         'gollum': 2,\n",
       "         'character': 15,\n",
       "         'lord': 57,\n",
       "         'rings': 12,\n",
       "         'antalya': 1,\n",
       "         'province': 77,\n",
       "         'rifat': 1,\n",
       "         'cetin': 1,\n",
       "         'jail': 322,\n",
       "         'sentence': 122,\n",
       "         'stripped': 42,\n",
       "         'parental': 7,\n",
       "         'custody': 54,\n",
       "         'today': 363,\n",
       "         'decides': 31,\n",
       "         'whether': 128,\n",
       "         'e': 87,\n",
       "         'cigarettes': 32,\n",
       "         'public': 567,\n",
       "         'warn': 93,\n",
       "         'ban': 637,\n",
       "         'using': 345,\n",
       "         'places': 57,\n",
       "         'damaging': 29,\n",
       "         'may': 863,\n",
       "         'put': 216,\n",
       "         ...})"
      ]
     },
     "execution_count": 46,
     "metadata": {
      "tags": []
     },
     "output_type": "execute_result"
    }
   ],
   "source": [
    "word_counts"
   ]
  },
  {
   "cell_type": "markdown",
   "metadata": {
    "id": "aSNwnsPMmJmb"
   },
   "source": [
    "## We are going to use Glove embeddings to initialize our weights while designing our neural network. Let's load the same so that we can ensure our headline corpus' vocabulary matches where possible with Glove Embedding vocabulary."
   ]
  },
  {
   "cell_type": "code",
   "execution_count": 48,
   "metadata": {
    "colab": {
     "base_uri": "https://localhost:8080/"
    },
    "executionInfo": {
     "elapsed": 262324,
     "status": "ok",
     "timestamp": 1605506749656,
     "user": {
      "displayName": "Budhaditya Saha",
      "photoUrl": "",
      "userId": "05733663512738547915"
     },
     "user_tz": -330
    },
    "id": "KTAJLm1ImJmc",
    "outputId": "26a447f5-ccd7-4726-83a1-8066eb3fb904"
   },
   "outputs": [
    {
     "name": "stdout",
     "output_type": "stream",
     "text": [
      "Word embeddings: 2196016\n"
     ]
    }
   ],
   "source": [
    "# Load GloVe's embeddings\n",
    "embeddings_index = {}\n",
    "with open('/content/drive/My Drive/notebooks/glove.840B.300d.txt', encoding='utf-8') as f:\n",
    "    for line in f:\n",
    "        values = line.split(' ')\n",
    "        word = values[0]\n",
    "        embedding = np.asarray(values[1:], dtype='float32')\n",
    "        embeddings_index[word] = embedding\n",
    "\n",
    "print('Word embeddings:', len(embeddings_index))"
   ]
  },
  {
   "cell_type": "markdown",
   "metadata": {
    "id": "MKsLgC1rmJme"
   },
   "source": [
    "## It is not necessary that we will have embeddings for all the words in Glove. So to limit such cases by limiting vocabulary by applying simple logic:  Remove the words that are \"rare\" and are not available in Glove "
   ]
  },
  {
   "cell_type": "code",
   "execution_count": 49,
   "metadata": {
    "executionInfo": {
     "elapsed": 1034,
     "status": "ok",
     "timestamp": 1605506787409,
     "user": {
      "displayName": "Budhaditya Saha",
      "photoUrl": "",
      "userId": "05733663512738547915"
     },
     "user_tz": -330
    },
    "id": "bMKFdIQ2mJmf"
   },
   "outputs": [],
   "source": [
    "# Limit the vocab that we will use to words that appear ≥ threshold or are in GloVe\n",
    "\n",
    "# Define threshold\n",
    "threshold = 10\n",
    "\n",
    "#dictionary to convert words to integers\n",
    "vocab_to_int = {} \n",
    "\n",
    "value = 0\n",
    "for word, count in word_counts.items():\n",
    "    if count >= threshold or word in embeddings_index:\n",
    "        vocab_to_int[word] = value\n",
    "        value += 1"
   ]
  },
  {
   "cell_type": "code",
   "execution_count": 50,
   "metadata": {
    "colab": {
     "base_uri": "https://localhost:8080/"
    },
    "executionInfo": {
     "elapsed": 1014,
     "status": "ok",
     "timestamp": 1605506790498,
     "user": {
      "displayName": "Budhaditya Saha",
      "photoUrl": "",
      "userId": "05733663512738547915"
     },
     "user_tz": -330
    },
    "id": "H-u3pEaUmJmi",
    "outputId": "2f09b238-e7df-4715-c0d1-04aa8001f5ca"
   },
   "outputs": [
    {
     "data": {
      "text/plain": [
       "31295"
      ]
     },
     "execution_count": 50,
     "metadata": {
      "tags": []
     },
     "output_type": "execute_result"
    }
   ],
   "source": [
    "len(vocab_to_int)"
   ]
  },
  {
   "cell_type": "code",
   "execution_count": 51,
   "metadata": {
    "colab": {
     "base_uri": "https://localhost:8080/"
    },
    "executionInfo": {
     "elapsed": 748,
     "status": "ok",
     "timestamp": 1605506791941,
     "user": {
      "displayName": "Budhaditya Saha",
      "photoUrl": "",
      "userId": "05733663512738547915"
     },
     "user_tz": -330
    },
    "id": "3hiWwKCsmJml",
    "outputId": "f8fed724-6c25-41bd-c1a5-16fd7633c847"
   },
   "outputs": [
    {
     "name": "stdout",
     "output_type": "stream",
     "text": [
      "Total Number of Unique Words: 36311\n",
      "Number of Words we will use: 31297\n",
      "Percent of Words we will use: 86.19%\n"
     ]
    }
   ],
   "source": [
    "# Special tokens that will be added to our vocab\n",
    "\n",
    "#vocab_to_int - is just a dictionary assigning a number from 1 to total words for each word -\n",
    "\n",
    "codes = [\"<UNK>\",\"<PAD>\"]   \n",
    "\n",
    "# Add codes to vocab\n",
    "for code in codes:\n",
    "    vocab_to_int[code] = len(vocab_to_int)\n",
    "\n",
    "# Dictionary to convert integers to words\n",
    "int_to_vocab = {}\n",
    "for word, value in vocab_to_int.items():\n",
    "    int_to_vocab[value] = word\n",
    "\n",
    "usage_ratio = round(len(vocab_to_int) / len(word_counts),4)*100\n",
    "\n",
    "print(\"Total Number of Unique Words:\", len(word_counts))\n",
    "print(\"Number of Words we will use:\", len(vocab_to_int))\n",
    "print(\"Percent of Words we will use: {}%\".format(usage_ratio))"
   ]
  },
  {
   "cell_type": "markdown",
   "metadata": {
    "id": "Syb0SnCVmJmn"
   },
   "source": [
    "## For the words which are common within headlines but are absent in Glove corpus, we will have to randomly initialize them. Over the training, those values will be finetuned along with those of Glove vectors."
   ]
  },
  {
   "cell_type": "code",
   "execution_count": 52,
   "metadata": {
    "colab": {
     "base_uri": "https://localhost:8080/"
    },
    "executionInfo": {
     "elapsed": 1328,
     "status": "ok",
     "timestamp": 1605506800338,
     "user": {
      "displayName": "Budhaditya Saha",
      "photoUrl": "",
      "userId": "05733663512738547915"
     },
     "user_tz": -330
    },
    "id": "AZDQ7-oxmJmo",
    "outputId": "4b15e7bc-e74a-4a96-a8e1-f66cc4d9df9d"
   },
   "outputs": [
    {
     "name": "stdout",
     "output_type": "stream",
     "text": [
      "31297\n"
     ]
    }
   ],
   "source": [
    "# Need to use 300 for embedding dimensions to match GloVe's vectors.\n",
    "embedding_dim = 300\n",
    "\n",
    "nb_words = len(vocab_to_int)\n",
    "# Create matrix with default values of zero\n",
    "word_embedding_matrix = np.zeros((nb_words, embedding_dim))\n",
    "for word, i in vocab_to_int.items():\n",
    "    if word in embeddings_index:\n",
    "        word_embedding_matrix[i] = embeddings_index[word]\n",
    "    else:\n",
    "        # If word not in GloVe, create a random embedding for it\n",
    "        new_embedding = np.array(np.random.uniform(-1.0, 1.0, embedding_dim))\n",
    "        embeddings_index[word] = new_embedding\n",
    "        word_embedding_matrix[i] = new_embedding\n",
    "\n",
    "# Check if value matches len(vocab_to_int)\n",
    "print(len(word_embedding_matrix))"
   ]
  },
  {
   "cell_type": "markdown",
   "metadata": {
    "id": "h1iYdyCTmJms"
   },
   "source": [
    "## Convert the word sequences to equivalent integer sequences so that it can be used as input to the model"
   ]
  },
  {
   "cell_type": "code",
   "execution_count": 53,
   "metadata": {
    "colab": {
     "base_uri": "https://localhost:8080/"
    },
    "executionInfo": {
     "elapsed": 1442,
     "status": "ok",
     "timestamp": 1605506810340,
     "user": {
      "displayName": "Budhaditya Saha",
      "photoUrl": "",
      "userId": "05733663512738547915"
     },
     "user_tz": -330
    },
    "id": "KnDrCXSRmJms",
    "outputId": "0fae3633-dd71-4ad6-8665-25a69c142b29"
   },
   "outputs": [
    {
     "name": "stdout",
     "output_type": "stream",
     "text": [
      "Total number of words in headlines: 616686\n",
      "Total number of UNKs in headlines: 7139\n",
      "Percent of words that are UNK: 1.16%\n"
     ]
    }
   ],
   "source": [
    "# Change the text from words to integers\n",
    "# If word is not in vocab, replace it with <UNK> (unknown)\n",
    "word_count = 0\n",
    "unk_count = 0\n",
    "\n",
    "headlines_sequence = []\n",
    "\n",
    "for daily_headline in clean_headlines:\n",
    "    daily_headlines_seq = []\n",
    "    for headline in daily_headline:\n",
    "        headline_seq = []\n",
    "        for word in headline.split():\n",
    "            word_count += 1\n",
    "            if word in vocab_to_int:\n",
    "                headline_seq.append(vocab_to_int[word])\n",
    "            else:\n",
    "                headline_seq.append(vocab_to_int[\"<UNK>\"])\n",
    "                unk_count += 1\n",
    "        daily_headlines_seq.append(headline_seq)\n",
    "    headlines_sequence.append(daily_headlines_seq)\n",
    "\n",
    "unk_percent = round(unk_count/word_count,4)*100\n",
    "\n",
    "print(\"Total number of words in headlines:\", word_count)\n",
    "print(\"Total number of UNKs in headlines:\", unk_count)\n",
    "print(\"Percent of words that are UNK: {}%\".format(unk_percent))"
   ]
  },
  {
   "cell_type": "code",
   "execution_count": 54,
   "metadata": {
    "colab": {
     "base_uri": "https://localhost:8080/"
    },
    "executionInfo": {
     "elapsed": 1050,
     "status": "ok",
     "timestamp": 1605506817221,
     "user": {
      "displayName": "Budhaditya Saha",
      "photoUrl": "",
      "userId": "05733663512738547915"
     },
     "user_tz": -330
    },
    "id": "LoX68paFmJmu",
    "outputId": "660f2124-5af1-46eb-f379-eb02c4785730"
   },
   "outputs": [
    {
     "data": {
      "text/plain": [
       "[[[0, 1, 2, 3, 4, 5, 6, 7, 8, 9, 10, 11, 12, 13, 14, 15, 16, 17, 18, 19],\n",
       "  [20,\n",
       "   21,\n",
       "   22,\n",
       "   23,\n",
       "   31295,\n",
       "   24,\n",
       "   25,\n",
       "   26,\n",
       "   27,\n",
       "   28,\n",
       "   29,\n",
       "   30,\n",
       "   31,\n",
       "   30,\n",
       "   32,\n",
       "   33,\n",
       "   34,\n",
       "   35,\n",
       "   36],\n",
       "  [37, 38, 22, 39, 40, 41, 42],\n",
       "  [43, 44, 45, 46, 47, 48, 49, 50, 51, 52, 53, 54, 55, 56, 57, 58, 44, 59, 60],\n",
       "  [61, 62, 63, 64, 65, 66, 67, 68, 69, 70],\n",
       "  [71, 72, 73, 74, 75, 76, 77, 78],\n",
       "  [79, 80, 81, 82, 83, 84, 85, 86],\n",
       "  [87, 88, 89, 90, 91, 92, 93, 94],\n",
       "  [95, 96, 97, 98, 99, 100, 101],\n",
       "  [102, 103, 104, 105, 106, 107, 108, 109, 110, 111, 112, 22],\n",
       "  [113, 114, 115, 116, 117, 118, 119],\n",
       "  [120, 121, 122, 123, 124, 125, 126, 127, 128, 129, 130, 131, 132],\n",
       "  [133,\n",
       "   134,\n",
       "   135,\n",
       "   136,\n",
       "   137,\n",
       "   138,\n",
       "   139,\n",
       "   140,\n",
       "   141,\n",
       "   142,\n",
       "   102,\n",
       "   72,\n",
       "   143,\n",
       "   144,\n",
       "   145,\n",
       "   146,\n",
       "   22,\n",
       "   147,\n",
       "   64,\n",
       "   148,\n",
       "   149],\n",
       "  [150, 151, 152, 153, 154, 155, 156],\n",
       "  [157, 158, 159, 160, 161, 162, 163, 164, 165],\n",
       "  [166, 167, 168, 169, 170, 171, 172, 173, 174, 175],\n",
       "  [176, 177, 132, 178, 179, 180, 181, 182, 183, 184, 185],\n",
       "  [45, 186, 187, 188, 58, 116, 189, 190, 191, 192, 193, 113, 194, 195],\n",
       "  [196, 161, 162, 163, 197, 198, 164, 165, 199, 200, 201],\n",
       "  [202, 203, 204, 205, 206, 207, 208, 209, 210, 211],\n",
       "  [212,\n",
       "   213,\n",
       "   214,\n",
       "   215,\n",
       "   184,\n",
       "   102,\n",
       "   216,\n",
       "   217,\n",
       "   218,\n",
       "   219,\n",
       "   31295,\n",
       "   220,\n",
       "   221,\n",
       "   222,\n",
       "   223,\n",
       "   224,\n",
       "   225,\n",
       "   226,\n",
       "   219,\n",
       "   227,\n",
       "   228,\n",
       "   229,\n",
       "   230,\n",
       "   104,\n",
       "   217,\n",
       "   231],\n",
       "  [102,\n",
       "   232,\n",
       "   83,\n",
       "   233,\n",
       "   234,\n",
       "   235,\n",
       "   236,\n",
       "   237,\n",
       "   238,\n",
       "   239,\n",
       "   240,\n",
       "   241,\n",
       "   84,\n",
       "   242,\n",
       "   243,\n",
       "   244,\n",
       "   239],\n",
       "  [245,\n",
       "   246,\n",
       "   247,\n",
       "   248,\n",
       "   249,\n",
       "   250,\n",
       "   251,\n",
       "   245,\n",
       "   252,\n",
       "   249,\n",
       "   253,\n",
       "   254,\n",
       "   255,\n",
       "   256,\n",
       "   250,\n",
       "   251,\n",
       "   257,\n",
       "   258,\n",
       "   259,\n",
       "   260,\n",
       "   261,\n",
       "   262,\n",
       "   263,\n",
       "   264,\n",
       "   265,\n",
       "   122,\n",
       "   266,\n",
       "   267],\n",
       "  [268, 22, 269, 270, 116, 56, 271, 272, 273, 274, 275],\n",
       "  [276, 277, 278, 279, 280, 93, 72, 281, 282, 283]]]"
      ]
     },
     "execution_count": 54,
     "metadata": {
      "tags": []
     },
     "output_type": "execute_result"
    }
   ],
   "source": [
    "headlines_sequence[:1]"
   ]
  },
  {
   "cell_type": "markdown",
   "metadata": {
    "id": "3Re691qymJm0"
   },
   "source": [
    "## Ensure that the variations in the number of news headlines each day and length of each headlines are handled by taking an average number of headlines each day and average length per headline "
   ]
  },
  {
   "cell_type": "code",
   "execution_count": 55,
   "metadata": {
    "executionInfo": {
     "elapsed": 1057,
     "status": "ok",
     "timestamp": 1605506822880,
     "user": {
      "displayName": "Budhaditya Saha",
      "photoUrl": "",
      "userId": "05733663512738547915"
     },
     "user_tz": -330
    },
    "id": "EqnqQ4kWmJm1"
   },
   "outputs": [],
   "source": [
    "# Find the length of headlines\n",
    "lengths = []\n",
    "for headlines in headlines_sequence:\n",
    "    for headline in headlines:\n",
    "        lengths.append(len(headline))\n",
    "\n",
    "# Create a dataframe so that the values can be inspected\n",
    "lengths = pd.DataFrame(lengths, columns=['counts'])"
   ]
  },
  {
   "cell_type": "code",
   "execution_count": 56,
   "metadata": {
    "colab": {
     "base_uri": "https://localhost:8080/",
     "height": 297
    },
    "executionInfo": {
     "elapsed": 1002,
     "status": "ok",
     "timestamp": 1605506826622,
     "user": {
      "displayName": "Budhaditya Saha",
      "photoUrl": "",
      "userId": "05733663512738547915"
     },
     "user_tz": -330
    },
    "id": "aHAbhgGymJm4",
    "outputId": "add6d32b-dcfa-4d23-9068-a5985748de20"
   },
   "outputs": [
    {
     "data": {
      "text/html": [
       "<div>\n",
       "<style scoped>\n",
       "    .dataframe tbody tr th:only-of-type {\n",
       "        vertical-align: middle;\n",
       "    }\n",
       "\n",
       "    .dataframe tbody tr th {\n",
       "        vertical-align: top;\n",
       "    }\n",
       "\n",
       "    .dataframe thead th {\n",
       "        text-align: right;\n",
       "    }\n",
       "</style>\n",
       "<table border=\"1\" class=\"dataframe\">\n",
       "  <thead>\n",
       "    <tr style=\"text-align: right;\">\n",
       "      <th></th>\n",
       "      <th>counts</th>\n",
       "    </tr>\n",
       "  </thead>\n",
       "  <tbody>\n",
       "    <tr>\n",
       "      <th>count</th>\n",
       "      <td>49693.000000</td>\n",
       "    </tr>\n",
       "    <tr>\n",
       "      <th>mean</th>\n",
       "      <td>12.409917</td>\n",
       "    </tr>\n",
       "    <tr>\n",
       "      <th>std</th>\n",
       "      <td>6.789827</td>\n",
       "    </tr>\n",
       "    <tr>\n",
       "      <th>min</th>\n",
       "      <td>1.000000</td>\n",
       "    </tr>\n",
       "    <tr>\n",
       "      <th>25%</th>\n",
       "      <td>7.000000</td>\n",
       "    </tr>\n",
       "    <tr>\n",
       "      <th>50%</th>\n",
       "      <td>10.000000</td>\n",
       "    </tr>\n",
       "    <tr>\n",
       "      <th>75%</th>\n",
       "      <td>16.000000</td>\n",
       "    </tr>\n",
       "    <tr>\n",
       "      <th>max</th>\n",
       "      <td>41.000000</td>\n",
       "    </tr>\n",
       "  </tbody>\n",
       "</table>\n",
       "</div>"
      ],
      "text/plain": [
       "             counts\n",
       "count  49693.000000\n",
       "mean      12.409917\n",
       "std        6.789827\n",
       "min        1.000000\n",
       "25%        7.000000\n",
       "50%       10.000000\n",
       "75%       16.000000\n",
       "max       41.000000"
      ]
     },
     "execution_count": 56,
     "metadata": {
      "tags": []
     },
     "output_type": "execute_result"
    }
   ],
   "source": [
    "lengths.describe()"
   ]
  },
  {
   "cell_type": "markdown",
   "metadata": {
    "id": "cwzZt519mJm7"
   },
   "source": [
    "## Limit the length of a day's news to 200 words, and the length of any headline to 16 words. These values are chosen to not have an excessively long training time and balance the number of headlines used and the number of words from each headline."
   ]
  },
  {
   "cell_type": "code",
   "execution_count": 57,
   "metadata": {
    "executionInfo": {
     "elapsed": 1010,
     "status": "ok",
     "timestamp": 1605506832690,
     "user": {
      "displayName": "Budhaditya Saha",
      "photoUrl": "",
      "userId": "05733663512738547915"
     },
     "user_tz": -330
    },
    "id": "8G1-GGK7mJm8"
   },
   "outputs": [],
   "source": [
    "max_headline_length = 16\n",
    "max_daily_length = 200\n",
    "pad_headlines = []\n",
    "\n",
    "# For each date in all the dates available\n",
    "for headlines in headlines_sequence:\n",
    "    pad_daily_headlines = []\n",
    "    # for each headline for each date\n",
    "    for headline in headlines:\n",
    "        # Add headline if it is less than max length\n",
    "        if len(headline) <= max_headline_length:\n",
    "            for word in headline:\n",
    "                pad_daily_headlines.append(word)\n",
    "        # Limit headline if it is more than max length  \n",
    "        else:\n",
    "            headline = headline[:max_headline_length]\n",
    "            for word in headline:\n",
    "                pad_daily_headlines.append(word)\n",
    "    \n",
    "    # Pad daily_headlines if they are less than max length\n",
    "    if len(pad_daily_headlines) < max_daily_length:\n",
    "        for i in range(max_daily_length-len(pad_daily_headlines)):\n",
    "            pad = vocab_to_int[\"<PAD>\"]\n",
    "            pad_daily_headlines.append(pad)\n",
    "    # Limit daily_headlines if they are more than max length\n",
    "    else:\n",
    "        pad_daily_headlines = pad_daily_headlines[:max_daily_length]\n",
    "    pad_headlines.append(pad_daily_headlines)"
   ]
  },
  {
   "cell_type": "markdown",
   "metadata": {
    "id": "7UwSG6RumJm-"
   },
   "source": [
    "## Split data into training and testing sets.\n",
    "## Validating data will be created during training."
   ]
  },
  {
   "cell_type": "code",
   "execution_count": 58,
   "metadata": {
    "executionInfo": {
     "elapsed": 1039,
     "status": "ok",
     "timestamp": 1605506838594,
     "user": {
      "displayName": "Budhaditya Saha",
      "photoUrl": "",
      "userId": "05733663512738547915"
     },
     "user_tz": -330
    },
    "id": "lcNpeCGMmJm_"
   },
   "outputs": [],
   "source": [
    "x_train, x_test, y_train, y_test = train_test_split(pad_headlines, norm_price, test_size = 0.15, random_state = 2)\n",
    "\n",
    "x_train = np.array(x_train)\n",
    "x_test = np.array(x_test)\n",
    "y_train = np.array(y_train)\n",
    "y_test = np.array(y_test)"
   ]
  },
  {
   "cell_type": "code",
   "execution_count": 59,
   "metadata": {
    "colab": {
     "base_uri": "https://localhost:8080/"
    },
    "executionInfo": {
     "elapsed": 1175,
     "status": "ok",
     "timestamp": 1605506841506,
     "user": {
      "displayName": "Budhaditya Saha",
      "photoUrl": "",
      "userId": "05733663512738547915"
     },
     "user_tz": -330
    },
    "id": "KUaFoV61mJnE",
    "outputId": "a13947a9-c3e0-4908-e5ac-4d8e62b6c31c"
   },
   "outputs": [
    {
     "name": "stdout",
     "output_type": "stream",
     "text": [
      "1689\n",
      "299\n"
     ]
    }
   ],
   "source": [
    "# Check the lengths\n",
    "print(len(x_train))\n",
    "print(len(x_test))"
   ]
  },
  {
   "cell_type": "markdown",
   "metadata": {
    "id": "oMtXoITKmJnG"
   },
   "source": [
    "# Model Building"
   ]
  },
  {
   "cell_type": "markdown",
   "metadata": {
    "id": "aV2JAoe9mJnH"
   },
   "source": [
    "## 1. Define the hyperparameters"
   ]
  },
  {
   "cell_type": "code",
   "execution_count": 60,
   "metadata": {
    "executionInfo": {
     "elapsed": 1070,
     "status": "ok",
     "timestamp": 1605506845565,
     "user": {
      "displayName": "Budhaditya Saha",
      "photoUrl": "",
      "userId": "05733663512738547915"
     },
     "user_tz": -330
    },
    "id": "089nl7H3mJnH"
   },
   "outputs": [],
   "source": [
    "filter_length = 5\n",
    "dropout = 0.5\n",
    "learning_rate = 0.001\n",
    "weights = initializers.TruncatedNormal(mean=0.0, stddev=0.1, seed=2)\n",
    "nb_filter = 16\n",
    "rnn_output_size = 128\n",
    "hidden_dims = 128"
   ]
  },
  {
   "cell_type": "markdown",
   "metadata": {
    "id": "PTdhiHUzmJnK"
   },
   "source": [
    "## 2. Create the model"
   ]
  },
  {
   "cell_type": "code",
   "execution_count": 61,
   "metadata": {
    "executionInfo": {
     "elapsed": 1019,
     "status": "ok",
     "timestamp": 1605506872497,
     "user": {
      "displayName": "Budhaditya Saha",
      "photoUrl": "",
      "userId": "05733663512738547915"
     },
     "user_tz": -330
    },
    "id": "jvgvjbHSmJnK"
   },
   "outputs": [],
   "source": [
    "def build_model():\n",
    "    \n",
    "    model = Sequential()\n",
    "    \n",
    "    # Layer 1 - Embedding\n",
    "    model.add(Embedding(nb_words, \n",
    "                         embedding_dim,\n",
    "                         weights=[word_embedding_matrix], \n",
    "                         input_length=max_daily_length))\n",
    "    model.add(Dropout(dropout))\n",
    "    \n",
    "    # Layer 2 - Convolution 1 with dropout\n",
    "    model.add(Convolution1D(filters = nb_filter, \n",
    "                             kernel_size = filter_length, \n",
    "                             padding = 'same',\n",
    "                             activation = 'relu'))\n",
    "    model.add(Dropout(dropout))    \n",
    "\n",
    "    # Layer 3 - Convolution 2 with Dropout \n",
    "    model.add(Convolution1D(filters = nb_filter, \n",
    "                                 kernel_size = filter_length, \n",
    "                                 padding = 'same',\n",
    "                                 activation = 'relu'))\n",
    "    model.add(Dropout(dropout))    \n",
    "\n",
    "    # Layer 4 - RNN with dropout\n",
    "    model.add(LSTM(rnn_output_size, \n",
    "                    activation=None,\n",
    "     #               kernel_initializer=weights,\n",
    "                    dropout = dropout))    \n",
    "\n",
    "    # Layer 5 - Dense FFN with Dropout\n",
    "    model.add(Dense(hidden_dims, kernel_initializer=weights))\n",
    "    model.add(Dropout(dropout))\n",
    "    \n",
    "    model.add(Dense(1, \n",
    "       #             kernel_initializer = weights,\n",
    "                    name='output'))\n",
    "\n",
    "    model.compile(loss='mean_squared_error',\n",
    "                  optimizer=Adam(lr=learning_rate,clipvalue=1.0))\n",
    "    return model"
   ]
  },
  {
   "cell_type": "markdown",
   "metadata": {
    "id": "TBorUxZYmJnN"
   },
   "source": [
    "## 3. Fit the model"
   ]
  },
  {
   "cell_type": "code",
   "execution_count": 62,
   "metadata": {
    "colab": {
     "base_uri": "https://localhost:8080/"
    },
    "executionInfo": {
     "elapsed": 208961,
     "status": "ok",
     "timestamp": 1605507104644,
     "user": {
      "displayName": "Budhaditya Saha",
      "photoUrl": "",
      "userId": "05733663512738547915"
     },
     "user_tz": -330
    },
    "id": "1zPXl6RUmJnN",
    "outputId": "869652f2-77c2-4900-e4bc-d5a1f34fde89",
    "scrolled": true
   },
   "outputs": [
    {
     "name": "stdout",
     "output_type": "stream",
     "text": [
      "\n",
      "Epoch 1/100\n",
      "12/12 [==============================] - 10s 850ms/step - loss: 0.0764 - val_loss: 0.0843\n",
      "Epoch 2/100\n",
      "12/12 [==============================] - 10s 850ms/step - loss: 0.0270 - val_loss: 0.0383\n",
      "Epoch 3/100\n",
      "12/12 [==============================] - 11s 894ms/step - loss: 0.0185 - val_loss: 0.0253\n",
      "Epoch 4/100\n",
      "12/12 [==============================] - 10s 842ms/step - loss: 0.0149 - val_loss: 0.0200\n",
      "Epoch 5/100\n",
      "12/12 [==============================] - 11s 887ms/step - loss: 0.0122 - val_loss: 0.0120\n",
      "Epoch 6/100\n",
      "12/12 [==============================] - 10s 874ms/step - loss: 0.0110 - val_loss: 0.0110\n",
      "Epoch 7/100\n",
      "12/12 [==============================] - 10s 871ms/step - loss: 0.0105 - val_loss: 0.0083\n",
      "Epoch 8/100\n",
      "12/12 [==============================] - 12s 1s/step - loss: 0.0101 - val_loss: 0.0079\n",
      "Epoch 9/100\n",
      "12/12 [==============================] - 10s 856ms/step - loss: 0.0105 - val_loss: 0.0078\n",
      "Epoch 10/100\n",
      "12/12 [==============================] - 10s 870ms/step - loss: 0.0097 - val_loss: 0.0072\n",
      "Epoch 11/100\n",
      "12/12 [==============================] - 11s 899ms/step - loss: 0.0096 - val_loss: 0.0074\n",
      "Epoch 12/100\n",
      "12/12 [==============================] - 10s 813ms/step - loss: 0.0094 - val_loss: 0.0081\n",
      "Epoch 13/100\n",
      "12/12 [==============================] - ETA: 0s - loss: 0.0096\n",
      "Epoch 00013: ReduceLROnPlateau reducing learning rate to 0.00020000000949949026.\n",
      "12/12 [==============================] - 10s 855ms/step - loss: 0.0096 - val_loss: 0.0072\n",
      "Epoch 14/100\n",
      "12/12 [==============================] - 10s 865ms/step - loss: 0.0091 - val_loss: 0.0076\n",
      "Epoch 15/100\n",
      "12/12 [==============================] - 10s 801ms/step - loss: 0.0092 - val_loss: 0.0074\n",
      "Epoch 16/100\n",
      "12/12 [==============================] - ETA: 0s - loss: 0.0093\n",
      "Epoch 00016: ReduceLROnPlateau reducing learning rate to 4.0000001899898055e-05.\n",
      "12/12 [==============================] - 9s 785ms/step - loss: 0.0093 - val_loss: 0.0073\n",
      "Epoch 17/100\n",
      "12/12 [==============================] - 10s 858ms/step - loss: 0.0096 - val_loss: 0.0074\n",
      "Epoch 18/100\n",
      "12/12 [==============================] - 9s 779ms/step - loss: 0.0096 - val_loss: 0.0074\n",
      "Epoch 00018: early stopping\n",
      "Model: \"sequential\"\n",
      "_________________________________________________________________\n",
      "Layer (type)                 Output Shape              Param #   \n",
      "=================================================================\n",
      "embedding (Embedding)        (None, 200, 300)          9389100   \n",
      "_________________________________________________________________\n",
      "dropout (Dropout)            (None, 200, 300)          0         \n",
      "_________________________________________________________________\n",
      "conv1d (Conv1D)              (None, 200, 16)           24016     \n",
      "_________________________________________________________________\n",
      "dropout_1 (Dropout)          (None, 200, 16)           0         \n",
      "_________________________________________________________________\n",
      "conv1d_1 (Conv1D)            (None, 200, 16)           1296      \n",
      "_________________________________________________________________\n",
      "dropout_2 (Dropout)          (None, 200, 16)           0         \n",
      "_________________________________________________________________\n",
      "lstm (LSTM)                  (None, 128)               74240     \n",
      "_________________________________________________________________\n",
      "dense (Dense)                (None, 128)               16512     \n",
      "_________________________________________________________________\n",
      "dropout_3 (Dropout)          (None, 128)               0         \n",
      "_________________________________________________________________\n",
      "output (Dense)               (None, 1)                 129       \n",
      "=================================================================\n",
      "Total params: 9,505,293\n",
      "Trainable params: 9,505,293\n",
      "Non-trainable params: 0\n",
      "_________________________________________________________________\n",
      "None\n"
     ]
    }
   ],
   "source": [
    "model = build_model()\n",
    "print()\n",
    "save_best_weights = '/content/drive/My Drive/notebooks/best_weights.h5'\n",
    "\n",
    "callbacks = [ModelCheckpoint(save_best_weights, monitor='val_loss', save_best_only=True),\n",
    "            EarlyStopping(monitor='val_loss', patience=5, verbose=1, mode='auto'),\n",
    "            ReduceLROnPlateau(monitor='val_loss', factor=0.2, verbose=1, patience=3)]\n",
    "\n",
    "history = model.fit([x_train],\n",
    "                    y_train,\n",
    "                    batch_size=128,\n",
    "                    epochs=100,\n",
    "                    validation_split=0.15,\n",
    "                    verbose=True,\n",
    "                    shuffle=True,\n",
    "                    callbacks = callbacks)\n",
    "print(model.summary())"
   ]
  },
  {
   "cell_type": "markdown",
   "metadata": {
    "id": "R6C9c5M3mJnQ"
   },
   "source": [
    "## 4. Predict using the model"
   ]
  },
  {
   "cell_type": "code",
   "execution_count": 63,
   "metadata": {
    "colab": {
     "base_uri": "https://localhost:8080/"
    },
    "executionInfo": {
     "elapsed": 2193,
     "status": "ok",
     "timestamp": 1605507117813,
     "user": {
      "displayName": "Budhaditya Saha",
      "photoUrl": "",
      "userId": "05733663512738547915"
     },
     "user_tz": -330
    },
    "id": "jGsjUTwpmJnQ",
    "outputId": "d5d2b3b7-0350-4586-f61d-9c40aa83e4a9"
   },
   "outputs": [
    {
     "name": "stdout",
     "output_type": "stream",
     "text": [
      "10/10 [==============================] - 1s 67ms/step\n"
     ]
    }
   ],
   "source": [
    "predictions = model.predict([x_test], verbose = True)"
   ]
  },
  {
   "cell_type": "code",
   "execution_count": 64,
   "metadata": {
    "colab": {
     "base_uri": "https://localhost:8080/"
    },
    "executionInfo": {
     "elapsed": 992,
     "status": "ok",
     "timestamp": 1605507121589,
     "user": {
      "displayName": "Budhaditya Saha",
      "photoUrl": "",
      "userId": "05733663512738547915"
     },
     "user_tz": -330
    },
    "id": "RlBrq4WJmJnT",
    "outputId": "cecbf320-959b-4c36-87d3-11315d5ff6af"
   },
   "outputs": [
    {
     "data": {
      "text/plain": [
       "0.0072408356514459885"
      ]
     },
     "execution_count": 64,
     "metadata": {
      "tags": []
     },
     "output_type": "execute_result"
    }
   ],
   "source": [
    "# Compare testing loss to training and validating loss\n",
    "mse(y_test, predictions)"
   ]
  },
  {
   "cell_type": "code",
   "execution_count": 65,
   "metadata": {
    "executionInfo": {
     "elapsed": 1310,
     "status": "ok",
     "timestamp": 1605507127937,
     "user": {
      "displayName": "Budhaditya Saha",
      "photoUrl": "",
      "userId": "05733663512738547915"
     },
     "user_tz": -330
    },
    "id": "TKkwZGywmJnV"
   },
   "outputs": [],
   "source": [
    "# Revert prediction back to actual scale\n",
    "def unnormalize(price):\n",
    "    '''Revert values to their unnormalized amounts'''\n",
    "    price = price*(max_price-min_price)+min_price\n",
    "    return(price)"
   ]
  },
  {
   "cell_type": "code",
   "execution_count": 66,
   "metadata": {
    "executionInfo": {
     "elapsed": 1106,
     "status": "ok",
     "timestamp": 1605507131338,
     "user": {
      "displayName": "Budhaditya Saha",
      "photoUrl": "",
      "userId": "05733663512738547915"
     },
     "user_tz": -330
    },
    "id": "mkI2_sTHmJnX"
   },
   "outputs": [],
   "source": [
    "# Store back-scaled predictions\n",
    "unnorm_predictions = []\n",
    "for pred in predictions:\n",
    "    unnorm_predictions.append(unnormalize(pred))\n",
    "\n",
    "# Store back-scaled actuals\n",
    "unnorm_y_test = []\n",
    "for y in y_test:\n",
    "    unnorm_y_test.append(unnormalize(y))"
   ]
  },
  {
   "cell_type": "code",
   "execution_count": 67,
   "metadata": {
    "colab": {
     "base_uri": "https://localhost:8080/"
    },
    "executionInfo": {
     "elapsed": 1098,
     "status": "ok",
     "timestamp": 1605507134673,
     "user": {
      "displayName": "Budhaditya Saha",
      "photoUrl": "",
      "userId": "05733663512738547915"
     },
     "user_tz": -330
    },
    "id": "dBajcWOumJnZ",
    "outputId": "dbb38445-5456-49e8-92dc-b79541c32d21"
   },
   "outputs": [
    {
     "data": {
      "text/plain": [
       "79.85681127343742"
      ]
     },
     "execution_count": 67,
     "metadata": {
      "tags": []
     },
     "output_type": "execute_result"
    }
   ],
   "source": [
    "# Calculate the median absolute error for the predictions\n",
    "mae(unnorm_y_test, unnorm_predictions)"
   ]
  },
  {
   "cell_type": "code",
   "execution_count": 68,
   "metadata": {
    "colab": {
     "base_uri": "https://localhost:8080/"
    },
    "executionInfo": {
     "elapsed": 1057,
     "status": "ok",
     "timestamp": 1605507149382,
     "user": {
      "displayName": "Budhaditya Saha",
      "photoUrl": "",
      "userId": "05733663512738547915"
     },
     "user_tz": -330
    },
    "id": "qtEjt15XmJnb",
    "outputId": "513cbe24-46de-4eb8-dfaf-aef7e7e10322"
   },
   "outputs": [
    {
     "data": {
      "text/plain": [
       "count    299.000000\n",
       "mean       7.094101\n",
       "std      139.532324\n",
       "min     -673.139648\n",
       "25%      -54.689941\n",
       "50%       10.759766\n",
       "75%       87.465332\n",
       "max      541.050782\n",
       "dtype: float64"
      ]
     },
     "execution_count": 68,
     "metadata": {
      "tags": []
     },
     "output_type": "execute_result"
    }
   ],
   "source": [
    "pd.Series(unnorm_y_test).describe()"
   ]
  },
  {
   "cell_type": "markdown",
   "metadata": {
    "id": "xtSecKN6mJnd"
   },
   "source": [
    "## Make  Predictions"
   ]
  },
  {
   "cell_type": "markdown",
   "metadata": {
    "id": "GMGpEc7PmJne"
   },
   "source": [
    "Below is the code necessary to make your own predictions. I found that the predictions are most accurate when there is no padding included in the input data. In the create_news variable, I have some default news that you can use, which is from April 30th, 2017. Just change the text to whatever you want, then see the impact your new headline will have."
   ]
  },
  {
   "cell_type": "code",
   "execution_count": 69,
   "metadata": {
    "executionInfo": {
     "elapsed": 1019,
     "status": "ok",
     "timestamp": 1605507185557,
     "user": {
      "displayName": "Budhaditya Saha",
      "photoUrl": "",
      "userId": "05733663512738547915"
     },
     "user_tz": -330
    },
    "id": "sR4KpSwkmJne"
   },
   "outputs": [],
   "source": [
    "def news_to_int(news):\n",
    "    '''Convert your created news into integers'''\n",
    "    ints = []\n",
    "    for word in news.split():\n",
    "        if word in vocab_to_int:\n",
    "            ints.append(vocab_to_int[word])\n",
    "        else:\n",
    "            ints.append(vocab_to_int['<UNK>'])\n",
    "    return ints"
   ]
  },
  {
   "cell_type": "code",
   "execution_count": 70,
   "metadata": {
    "executionInfo": {
     "elapsed": 1012,
     "status": "ok",
     "timestamp": 1605507189970,
     "user": {
      "displayName": "Budhaditya Saha",
      "photoUrl": "",
      "userId": "05733663512738547915"
     },
     "user_tz": -330
    },
    "id": "-4dmJlOBmJng"
   },
   "outputs": [],
   "source": [
    "def padding_news(news):\n",
    "    '''Adjusts the length of your created news to fit the model's input values.'''\n",
    "    padded_news = news\n",
    "    if len(padded_news) < max_daily_length:\n",
    "        for i in range(max_daily_length-len(padded_news)):\n",
    "            padded_news.append(vocab_to_int[\"<PAD>\"])\n",
    "    elif len(padded_news) > max_daily_length:\n",
    "        padded_news = padded_news[:max_daily_length]\n",
    "    return padded_news"
   ]
  },
  {
   "cell_type": "code",
   "execution_count": 71,
   "metadata": {
    "executionInfo": {
     "elapsed": 955,
     "status": "ok",
     "timestamp": 1605507225206,
     "user": {
      "displayName": "Budhaditya Saha",
      "photoUrl": "",
      "userId": "05733663512738547915"
     },
     "user_tz": -330
    },
    "id": "VNsbVGEKmJnk"
   },
   "outputs": [],
   "source": [
    "# Default news that you can use\n",
    "\n",
    "create_news =  \"Woman says note from Chinese 'prisoner' was hidden in new purse. \\\n",
    "               21,000 AT&T workers poised for Monday strike \\\n",
    "               housands march against Trump climate policies in D.C., across USA \\\n",
    "               Kentucky judge won't hear gay adoptions because it's not in the child's \\\"best interest\\\" \\\n",
    "               Multiple victims shot in UTC area apartment complex \\\n",
    "               Drones Lead Police to Illegal Dumping in Riverside County | NBC Southern California \\\n",
    "               An 86-year-old Californian woman has died trying to fight a man who was allegedly sexually assaulting her 61-year-old friend. \\\n",
    "               Fyre Festival Named in $5Million+ Lawsuit after Stranding Festival-Goers on Island with Little Food, No Security. \\\n",
    "               The \\\"Greatest Show on Earth\\\" folds its tent for good \\\n",
    "               U.S.-led fight on ISIS have killed 352 civilians: Pentagon \\\n",
    "               Woman offers undercover officer sex for $25 and some Chicken McNuggets \\\n",
    "               Ohio bridge refuses to fall down after three implosion attempts \\\n",
    "               Jersey Shore MIT grad dies in prank falling from library dome \\\n",
    "               New York graffiti artists claim McDonald's stole work for latest burger campaign \\\n",
    "               SpaceX to launch secretive satellite for U.S. intelligence agency \\\n",
    "               Severe Storms Leave a Trail of Death and Destruction Through the U.S. \\\n",
    "               Hamas thanks N. Korea for its support against ‘Israeli occupation’ \\\n",
    "               Baker Police officer arrested for allegedly covering up details in shots fired investigation \\\n",
    "               Miami doctor’s call to broker during baby’s delivery leads to $33.8 million judgment \\\n",
    "               Minnesota man gets 15 years for shooting 5 Black Lives Matter protesters \\\n",
    "               South Australian woman facing possible 25 years in Colombian prison for drug trafficking \\\n",
    "               The Latest: Deal reached on funding government through Sept. \\\n",
    "               Russia flaunts Arctic expansion with new military bases\"\n",
    "\n",
    "clean_news = clean_text(create_news)\n",
    "\n",
    "int_news = news_to_int(clean_news)\n",
    "\n",
    "pad_news = padding_news(int_news)\n"
   ]
  },
  {
   "cell_type": "code",
   "execution_count": 77,
   "metadata": {
    "colab": {
     "base_uri": "https://localhost:8080/"
    },
    "executionInfo": {
     "elapsed": 937,
     "status": "ok",
     "timestamp": 1605507296166,
     "user": {
      "displayName": "Budhaditya Saha",
      "photoUrl": "",
      "userId": "05733663512738547915"
     },
     "user_tz": -330
    },
    "id": "pniTBxossCWs",
    "outputId": "0c031a07-ed7f-480e-ca85-4f1a4e998b17"
   },
   "outputs": [
    {
     "name": "stdout",
     "output_type": "stream",
     "text": [
      "<class 'list'>\n",
      "200\n"
     ]
    }
   ],
   "source": [
    "print(type(pad_news))\n",
    "print(len(pad_news))"
   ]
  },
  {
   "cell_type": "code",
   "execution_count": 78,
   "metadata": {
    "executionInfo": {
     "elapsed": 1365,
     "status": "ok",
     "timestamp": 1605507300909,
     "user": {
      "displayName": "Budhaditya Saha",
      "photoUrl": "",
      "userId": "05733663512738547915"
     },
     "user_tz": -330
    },
    "id": "e0KWjvgjr-xM"
   },
   "outputs": [],
   "source": [
    "pad_news = np.array(pad_news).reshape((1,-1))"
   ]
  },
  {
   "cell_type": "code",
   "execution_count": 79,
   "metadata": {
    "colab": {
     "base_uri": "https://localhost:8080/"
    },
    "executionInfo": {
     "elapsed": 969,
     "status": "ok",
     "timestamp": 1605507307751,
     "user": {
      "displayName": "Budhaditya Saha",
      "photoUrl": "",
      "userId": "05733663512738547915"
     },
     "user_tz": -330
    },
    "id": "WI5RnJfnsUKN",
    "outputId": "5a061eda-e33f-439f-8e9e-ad0f475626ca"
   },
   "outputs": [
    {
     "data": {
      "text/plain": [
       "(1, 200)"
      ]
     },
     "execution_count": 79,
     "metadata": {
      "tags": []
     },
     "output_type": "execute_result"
    }
   ],
   "source": [
    "pad_news.shape"
   ]
  },
  {
   "cell_type": "code",
   "execution_count": 80,
   "metadata": {
    "colab": {
     "base_uri": "https://localhost:8080/"
    },
    "executionInfo": {
     "elapsed": 1501,
     "status": "ok",
     "timestamp": 1605507314300,
     "user": {
      "displayName": "Budhaditya Saha",
      "photoUrl": "",
      "userId": "05733663512738547915"
     },
     "user_tz": -330
    },
    "id": "nWtRdCJxmJnl",
    "outputId": "8c4969a1-d911-4d27-a8e4-64c8ab343011"
   },
   "outputs": [
    {
     "name": "stdout",
     "output_type": "stream",
     "text": [
      "The Dow should open: -31.059999465942383 from the previous open.\n"
     ]
    }
   ],
   "source": [
    "pred = model.predict([pad_news])\n",
    "\n",
    "price_change = unnormalize(pred)\n",
    "\n",
    "print(\"The Dow should open: {} from the previous open.\".format(np.round(price_change[0][0],2)))"
   ]
  }
 ],
 "metadata": {
  "accelerator": "TPU",
  "anaconda-cloud": {},
  "colab": {
   "collapsed_sections": [],
   "name": "Predicting Dow Jones using News Headlines using 1dCNN_RNN model.ipynb",
   "provenance": [],
   "toc_visible": true
  },
  "kernelspec": {
   "display_name": "Python 3",
   "language": "python",
   "name": "python3"
  },
  "language_info": {
   "codemirror_mode": {
    "name": "ipython",
    "version": 3
   },
   "file_extension": ".py",
   "mimetype": "text/x-python",
   "name": "python",
   "nbconvert_exporter": "python",
   "pygments_lexer": "ipython3",
   "version": "3.7.9"
  }
 },
 "nbformat": 4,
 "nbformat_minor": 1
}
